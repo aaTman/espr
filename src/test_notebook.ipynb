{
 "cells": [
  {
   "cell_type": "code",
   "execution_count": null,
   "source": [
    "import mclimate as mclim\r\n",
    "import farray as fa\r\n",
    "import importlib\r\n",
    "import numpy as np\r\n",
    "import bottleneck\r\n",
    "import xarray as xr\r\n",
    "import matplotlib.pyplot as plt\r\n",
    "import cartopy.crs as ccrs\r\n",
    "import cartopy.feature as cf\r\n",
    "from mpl_toolkits.axes_grid1 import make_axes_locatable\r\n",
    "import matplotlib.colors as mc\r\n",
    "importlib.reload(mc)"
   ],
   "outputs": [],
   "metadata": {
    "ExecuteTime": {
     "end_time": "2021-04-12T14:46:09.570254Z",
     "start_time": "2021-04-12T14:46:09.564253Z"
    }
   }
  },
  {
   "cell_type": "code",
   "execution_count": null,
   "source": [
    "date = '2016012100'\r\n",
    "plt.style.use('seaborn-colorblind')"
   ],
   "outputs": [],
   "metadata": {
    "ExecuteTime": {
     "end_time": "2021-04-12T14:44:14.876552Z",
     "start_time": "2021-04-12T14:44:14.873549Z"
    }
   }
  },
  {
   "cell_type": "code",
   "execution_count": null,
   "source": [
    "gefs_mean = xr.open_dataset('../../espr/reforecast/v12/slp_mean_djf.nc',chunks={'time':10})\r\n",
    "gefs_mean = gefs_mean.sel(date=date).sel(time=54)\r\n",
    "gefs_mean"
   ],
   "outputs": [],
   "metadata": {
    "ExecuteTime": {
     "end_time": "2021-04-12T14:45:34.530892Z",
     "start_time": "2021-04-12T14:45:34.514892Z"
    }
   }
  },
  {
   "cell_type": "code",
   "execution_count": null,
   "source": [
    "gefs_sprd = xr.open_dataset('../../espr/reforecast/v12/slp_sprd_djf.nc',chunks={'time':10})\r\n",
    "gefs_sprd = gefs_sprd.sel(date=date).sel(time=54)\r\n",
    "gefs_sprd"
   ],
   "outputs": [],
   "metadata": {
    "ExecuteTime": {
     "end_time": "2021-04-12T14:45:35.183892Z",
     "start_time": "2021-04-12T14:45:35.164892Z"
    }
   }
  },
  {
   "cell_type": "code",
   "execution_count": null,
   "source": [
    "mclimate = mclim.MClimate('2016-01-21','G:/Projects/espr/reforecast/v12','slp',54,v12=True,dask_enabled=True)"
   ],
   "outputs": [],
   "metadata": {
    "ExecuteTime": {
     "end_time": "2021-04-12T14:46:15.092654Z",
     "start_time": "2021-04-12T14:46:14.552644Z"
    }
   }
  },
  {
   "cell_type": "code",
   "execution_count": null,
   "source": [
    "mclimate.client"
   ],
   "outputs": [],
   "metadata": {
    "ExecuteTime": {
     "end_time": "2021-04-12T14:46:18.035335Z",
     "start_time": "2021-04-12T14:46:18.031335Z"
    }
   }
  },
  {
   "cell_type": "code",
   "execution_count": null,
   "source": [
    "mcli = mclimate.generate()"
   ],
   "outputs": [],
   "metadata": {
    "ExecuteTime": {
     "end_time": "2021-04-12T14:46:19.730694Z",
     "start_time": "2021-04-12T14:46:19.709695Z"
    },
    "scrolled": true
   }
  },
  {
   "cell_type": "code",
   "execution_count": null,
   "source": [
    "mcli_sprd = mclimate.generate(stat='sprd')"
   ],
   "outputs": [],
   "metadata": {
    "ExecuteTime": {
     "end_time": "2021-04-12T14:46:25.099518Z",
     "start_time": "2021-04-12T14:46:25.028500Z"
    }
   }
  },
  {
   "cell_type": "code",
   "execution_count": null,
   "source": [
    "# percentiles = percentile(mc_mu, gefs_mean)\r\n",
    "# subset = subset_sprd(percentiles, mc_std)\r\n",
    "# hsa_final = hsa_transform(gefs_sprd, subset)"
   ],
   "outputs": [],
   "metadata": {
    "ExecuteTime": {
     "end_time": "2021-04-12T14:46:25.490628Z",
     "start_time": "2021-04-12T14:46:25.488627Z"
    }
   }
  },
  {
   "cell_type": "code",
   "execution_count": null,
   "source": [
    "percentile = mcli.load().rank('time')/len(mcli['time'])"
   ],
   "outputs": [],
   "metadata": {
    "ExecuteTime": {
     "end_time": "2021-04-12T14:46:38.297702Z",
     "start_time": "2021-04-12T14:46:25.824683Z"
    }
   }
  },
  {
   "cell_type": "code",
   "execution_count": null,
   "source": [
    "new_perc = percentile.where(np.logical_and(percentile >= percentile.isel(time=-1)-0.05, percentile <= percentile.isel(time=-1)+0.05),drop=True)"
   ],
   "outputs": [],
   "metadata": {
    "ExecuteTime": {
     "end_time": "2021-04-12T14:46:39.661683Z",
     "start_time": "2021-04-12T14:46:38.298683Z"
    }
   }
  },
  {
   "cell_type": "code",
   "execution_count": null,
   "source": [
    "mcli_sprd = mcli_sprd.where(~np.isnan(new_perc),drop=True)"
   ],
   "outputs": [],
   "metadata": {
    "ExecuteTime": {
     "end_time": "2021-04-12T14:46:40.470708Z",
     "start_time": "2021-04-12T14:46:39.662684Z"
    }
   }
  },
  {
   "cell_type": "code",
   "execution_count": null,
   "source": [
    "mcli_sprd = mcli_sprd.chunk({'time':10})"
   ],
   "outputs": [],
   "metadata": {
    "ExecuteTime": {
     "end_time": "2021-04-12T14:46:40.475684Z",
     "start_time": "2021-04-12T14:46:40.471707Z"
    }
   }
  },
  {
   "cell_type": "code",
   "execution_count": null,
   "source": [
    "mcli_sprd"
   ],
   "outputs": [],
   "metadata": {
    "ExecuteTime": {
     "end_time": "2021-04-12T14:46:40.493684Z",
     "start_time": "2021-04-12T14:46:40.476684Z"
    }
   }
  },
  {
   "cell_type": "code",
   "execution_count": null,
   "source": [
    "subset_vals = (gefs_sprd - mcli_sprd.mean('time'))/mcli_sprd.std('time')\r\n",
    "subset_vals = (0.99-(-0.99))*(subset_vals-subset_vals.min(['latitude','longitude']))/(subset_vals.max(['latitude','longitude'])-subset_vals.min(['latitude','longitude'])) + -0.99\r\n",
    "subset_vals = np.arctanh(subset_vals)"
   ],
   "outputs": [],
   "metadata": {
    "ExecuteTime": {
     "end_time": "2021-04-12T14:46:40.509683Z",
     "start_time": "2021-04-12T14:46:40.494683Z"
    }
   }
  },
  {
   "cell_type": "code",
   "execution_count": null,
   "source": [
    "subset_vals"
   ],
   "outputs": [],
   "metadata": {
    "ExecuteTime": {
     "end_time": "2021-04-12T14:46:40.522683Z",
     "start_time": "2021-04-12T14:46:40.510684Z"
    }
   }
  },
  {
   "cell_type": "code",
   "execution_count": null,
   "source": [
    "subset_vals.where(np.abs(subset_vals) > 0.5).msl"
   ],
   "outputs": [],
   "metadata": {
    "ExecuteTime": {
     "end_time": "2021-04-12T14:46:40.536683Z",
     "start_time": "2021-04-12T14:46:40.523683Z"
    }
   }
  },
  {
   "cell_type": "code",
   "execution_count": null,
   "source": [
    "n=35\r\n",
    "x = 0.5\r\n",
    "cmap = plt.cm.RdBu_r\r\n",
    "lower = cmap(np.linspace(0, x, n))\r\n",
    "white = np.ones((80-2*n,4))\r\n",
    "upper = cmap(np.linspace(1-x, 1, n))\r\n",
    "colors = np.vstack((lower, white, upper))\r\n",
    "tmap = mc.LinearSegmentedColormap.from_list('map_white', colors)"
   ],
   "outputs": [],
   "metadata": {
    "ExecuteTime": {
     "end_time": "2021-04-12T14:46:40.541683Z",
     "start_time": "2021-04-12T14:46:40.537683Z"
    }
   }
  },
  {
   "cell_type": "code",
   "execution_count": null,
   "source": [
    "fig = plt.figure(figsize=(20,10))\r\n",
    "ax = fig.add_subplot(111, projection=ccrs.Miller())\r\n",
    "ax.add_feature(cf.NaturalEarthFeature(\r\n",
    "    'cultural', 'admin_1_states_provinces_lines', '50m',\r\n",
    "    edgecolor='gray', facecolor='none'))\r\n",
    "ax.add_feature(cf.NaturalEarthFeature(\r\n",
    "    'cultural', 'admin_1_states_provinces_lines', '50m',\r\n",
    "    edgecolor='gray', facecolor='none'))        \r\n",
    "ax.add_feature(cf.LAKES, facecolor='gray')\r\n",
    "ax.add_feature(cf.BORDERS, edgecolor='gray')\r\n",
    "ax.add_feature(cf.RIVERS, edgecolor='gray')\r\n",
    "ax.add_feature(cf.OCEAN, facecolor='gray')\r\n",
    "ax.set_extent([-180,-50,20,60],crs=ccrs.PlateCarree())\r\n",
    "ax.coastlines(resolution='50m')\r\n",
    "subset_vals_fix = subset_vals\r\n",
    "subset_vals_fix['longitude'] = (subset_vals_fix['longitude']  + 180) % 360 - 180\r\n",
    "subset_vals_fix  = subset_vals_fix.sortby(subset_vals_fix['longitude'] )\r\n",
    "c = subset_vals_fix.msl.plot.imshow(ax=ax,\r\n",
    "                                     transform=ccrs.PlateCarree(),\r\n",
    "                                    cmap=tmap,\r\n",
    "                                    add_colorbar=False)\r\n",
    "(gefs_mean.msl/100).plot.contour(ax=ax,\r\n",
    "                    colors = 'k',\r\n",
    "                    transform=ccrs.PlateCarree(),\r\n",
    "                    levels=np.arange(900,1100,4),\r\n",
    "                    add_colorbar=False,\r\n",
    "                    linewidths=0.5)\r\n",
    "divider = make_axes_locatable(ax)\r\n",
    "ax_cb = divider.new_horizontal(size=\"5%\", pad=0.001, axes_class=plt.Axes, aspect=30)\r\n",
    "fig.add_axes(ax_cb)\r\n",
    "cb = plt.colorbar(c, cax=ax_cb)\r\n",
    "cb.set_label(label='Sigma',fontsize=16)\r\n",
    "plt.show()"
   ],
   "outputs": [],
   "metadata": {
    "ExecuteTime": {
     "end_time": "2021-04-12T14:46:49.665685Z",
     "start_time": "2021-04-12T14:46:40.546683Z"
    }
   }
  },
  {
   "cell_type": "code",
   "execution_count": null,
   "source": [
    "fig = plt.figure(figsize=(20,10))\r\n",
    "ax = fig.add_subplot(111, projection=ccrs.Miller())\r\n",
    "ax.add_feature(cf.NaturalEarthFeature(\r\n",
    "    'cultural', 'admin_1_states_provinces_lines', '50m',\r\n",
    "    edgecolor='gray', facecolor='none'))\r\n",
    "ax.add_feature(cf.NaturalEarthFeature(\r\n",
    "    'cultural', 'admin_1_states_provinces_lines', '50m',\r\n",
    "    edgecolor='gray', facecolor='none'))        \r\n",
    "ax.add_feature(cf.LAKES, facecolor='gray')\r\n",
    "ax.add_feature(cf.BORDERS, edgecolor='gray')\r\n",
    "ax.add_feature(cf.RIVERS, edgecolor='gray')\r\n",
    "ax.add_feature(cf.OCEAN, facecolor='gray')\r\n",
    "ax.set_extent([-180,-50,20,60],crs=ccrs.PlateCarree())\r\n",
    "ax.coastlines(resolution='50m')\r\n",
    "subset_vals_fix = gefs_sprd\r\n",
    "subset_vals_fix['longitude'] = (subset_vals_fix['longitude']  + 180) % 360 - 180\r\n",
    "subset_vals_fix  = subset_vals_fix.sortby(subset_vals_fix['longitude'] )\r\n",
    "c = subset_vals_fix.msl.plot.imshow(ax=ax,\r\n",
    "                             transform=ccrs.PlateCarree(),\r\n",
    "                                add_colorbar=False,cmap='viridis')\r\n",
    "(gefs_mean.msl/100).plot.contour(ax=ax,\r\n",
    "                    colors = 'k',\r\n",
    "                    transform=ccrs.PlateCarree(),\r\n",
    "                    levels=np.arange(900,1100,4),\r\n",
    "                    add_colorbar=False,\r\n",
    "                    linewidths=0.5)\r\n",
    "# divider = make_axes_locatable(ax)\r\n",
    "# ax_cb = divider.new_horizontal(size=\"5%\", pad=0.001, axes_class=plt.Axes, aspect=30)\r\n",
    "# fig.add_axes(ax_cb)\r\n",
    "# cb = plt.colorbar(c, cax=ax_cb)\r\n",
    "# cb.set_label(label='Sigma',fontsize=16)\r\n",
    "plt.show()"
   ],
   "outputs": [],
   "metadata": {
    "ExecuteTime": {
     "end_time": "2021-04-12T14:46:52.590683Z",
     "start_time": "2021-04-12T14:46:49.666683Z"
    }
   }
  },
  {
   "cell_type": "code",
   "execution_count": null,
   "source": [],
   "outputs": [],
   "metadata": {}
  }
 ],
 "metadata": {
  "kernelspec": {
   "display_name": "Python 3",
   "language": "python",
   "name": "python3"
  },
  "language_info": {
   "codemirror_mode": {
    "name": "ipython",
    "version": 3
   },
   "file_extension": ".py",
   "mimetype": "text/x-python",
   "name": "python",
   "nbconvert_exporter": "python",
   "pygments_lexer": "ipython3",
   "version": "3.7.3"
  },
  "toc": {
   "base_numbering": 1,
   "nav_menu": {},
   "number_sections": true,
   "sideBar": true,
   "skip_h1_title": false,
   "title_cell": "Table of Contents",
   "title_sidebar": "Contents",
   "toc_cell": false,
   "toc_position": {},
   "toc_section_display": true,
   "toc_window_display": false
  }
 },
 "nbformat": 4,
 "nbformat_minor": 5
}