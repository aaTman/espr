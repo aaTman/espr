{
 "cells": [
  {
   "cell_type": "code",
   "execution_count": 4,
   "metadata": {},
   "outputs": [
    {
     "output_type": "stream",
     "name": "stdout",
     "text": [
      "Collecting s3fs\n",
      "  Using cached s3fs-2021.5.0-py3-none-any.whl (24 kB)\n",
      "Collecting fsspec==2021.05.0\n",
      "  Using cached fsspec-2021.5.0-py3-none-any.whl (111 kB)\n",
      "Collecting aiobotocore>=1.0.1\n",
      "  Using cached aiobotocore-1.3.0.tar.gz (48 kB)\n",
      "Collecting botocore<1.20.50,>=1.20.49\n",
      "  Using cached botocore-1.20.49-py2.py3-none-any.whl (7.4 MB)\n",
      "Collecting aiohttp>=3.3.1\n",
      "  Downloading aiohttp-3.7.4.post0-cp38-cp38-win_amd64.whl (635 kB)\n",
      "Requirement already satisfied: wrapt>=1.10.10 in c:\\users\\tman1_000\\anaconda3_2020\\lib\\site-packages (from aiobotocore>=1.0.1->s3fs) (1.11.2)\n",
      "Collecting aioitertools>=0.5.1\n",
      "  Using cached aioitertools-0.7.1-py3-none-any.whl (20 kB)\n",
      "Requirement already satisfied: urllib3<1.27,>=1.25.4 in c:\\users\\tman1_000\\anaconda3_2020\\lib\\site-packages (from botocore<1.20.50,>=1.20.49->aiobotocore>=1.0.1->s3fs) (1.25.11)\n",
      "Requirement already satisfied: python-dateutil<3.0.0,>=2.1 in c:\\users\\tman1_000\\anaconda3_2020\\lib\\site-packages (from botocore<1.20.50,>=1.20.49->aiobotocore>=1.0.1->s3fs) (2.8.1)\n",
      "Collecting jmespath<1.0.0,>=0.7.1\n",
      "  Using cached jmespath-0.10.0-py2.py3-none-any.whl (24 kB)\n",
      "Requirement already satisfied: typing-extensions>=3.6.5 in c:\\users\\tman1_000\\anaconda3_2020\\lib\\site-packages (from aiohttp>=3.3.1->aiobotocore>=1.0.1->s3fs) (3.7.4.3)\n",
      "Collecting yarl<2.0,>=1.0\n",
      "  Downloading yarl-1.6.3-cp38-cp38-win_amd64.whl (125 kB)\n",
      "Requirement already satisfied: chardet<5.0,>=2.0 in c:\\users\\tman1_000\\anaconda3_2020\\lib\\site-packages (from aiohttp>=3.3.1->aiobotocore>=1.0.1->s3fs) (3.0.4)\n",
      "Collecting multidict<7.0,>=4.5\n",
      "  Downloading multidict-5.1.0-cp38-cp38-win_amd64.whl (48 kB)\n",
      "Requirement already satisfied: attrs>=17.3.0 in c:\\users\\tman1_000\\anaconda3_2020\\lib\\site-packages (from aiohttp>=3.3.1->aiobotocore>=1.0.1->s3fs) (20.3.0)\n",
      "Collecting async-timeout<4.0,>=3.0\n",
      "  Using cached async_timeout-3.0.1-py3-none-any.whl (8.2 kB)\n",
      "Requirement already satisfied: six>=1.5 in c:\\users\\tman1_000\\anaconda3_2020\\lib\\site-packages (from python-dateutil<3.0.0,>=2.1->botocore<1.20.50,>=1.20.49->aiobotocore>=1.0.1->s3fs) (1.15.0)\n",
      "Requirement already satisfied: idna>=2.0 in c:\\users\\tman1_000\\anaconda3_2020\\lib\\site-packages (from yarl<2.0,>=1.0->aiohttp>=3.3.1->aiobotocore>=1.0.1->s3fs) (2.10)\n",
      "Building wheels for collected packages: aiobotocore\n",
      "  Building wheel for aiobotocore (setup.py): started\n",
      "  Building wheel for aiobotocore (setup.py): finished with status 'done'\n",
      "  Created wheel for aiobotocore: filename=aiobotocore-1.3.0-py3-none-any.whl size=45784 sha256=cd3b5c13f19d9f750bc35ac3049bac4850c9514db0bbaaaff8ec7f587c6447cd\n",
      "  Stored in directory: c:\\users\\tman1_000\\appdata\\local\\pip\\cache\\wheels\\f3\\c8\\af\\bc69105edc81462cf4bca30d72a792a173f80522042defc6a1\n",
      "Successfully built aiobotocore\n",
      "Installing collected packages: fsspec, jmespath, botocore, multidict, yarl, async-timeout, aiohttp, aioitertools, aiobotocore, s3fs\n",
      "  Attempting uninstall: fsspec\n",
      "    Found existing installation: fsspec 0.8.3\n",
      "    Uninstalling fsspec-0.8.3:\n",
      "      Successfully uninstalled fsspec-0.8.3\n",
      "Successfully installed aiobotocore-1.3.0 aiohttp-3.7.4.post0 aioitertools-0.7.1 async-timeout-3.0.1 botocore-1.20.49 fsspec-2021.5.0 jmespath-0.10.0 multidict-5.1.0 s3fs-2021.5.0 yarl-1.6.3\n"
     ]
    }
   ],
   "source": [
    "!pip install s3fs"
   ]
  },
  {
   "cell_type": "code",
   "execution_count": 37,
   "metadata": {
    "ExecuteTime": {
     "end_time": "2021-05-11T17:36:49.310441Z",
     "start_time": "2021-05-11T17:36:47.503776Z"
    }
   },
   "outputs": [],
   "source": [
    "import subprocess\n",
    "import pandas as pd\n",
    "import xarray as xr\n",
    "import urllib \n",
    "import os\n",
    "import re\n",
    "from datetime import datetime, timedelta\n",
    "import numpy as np\n",
    "import s3fs\n",
    "import asyncio\n",
    "\n",
    "def date_range_seasonal(season, date_range=None):\n",
    "    if date_range is not None:\n",
    "        pass\n",
    "    else:\n",
    "        date_range = pd.date_range('2000-01-01','2019-12-31')\n",
    "    season_dict = {\n",
    "        'djf':[11,12,1,2,3],\n",
    "        'mam':[2,3,4,5,6],\n",
    "        'jja':[5,6,7,8,9],\n",
    "        'son':[8,9,10,11,12]\n",
    "    }\n",
    "    dr = date_range[date_range.month.isin(season_dict[season]) &\n",
    "                    ((date_range.month != season_dict[season][0]) | (date_range.day >= 21)) & \n",
    "            ((date_range.month != season_dict[season][-1]) | (date_range.day <= 10))\n",
    "                   ]\n",
    "    return dr"
   ]
  },
  {
   "cell_type": "code",
   "execution_count": 4,
   "metadata": {},
   "outputs": [],
   "source": [
    "bucket = 'noaa-gefs-retrospective/GEFSv12/reforecast'\n",
    "ens = ['c00','p01','p02','p03','p04']\n",
    "season = 'jja'\n",
    "var_names = ['dswrf_sfc','apcp_eatm']"
   ]
  },
  {
   "cell_type": "code",
   "execution_count": 5,
   "metadata": {},
   "outputs": [],
   "source": [
    "dr = date_range_seasonal(season)"
   ]
  },
  {
   "cell_type": "code",
   "execution_count": 30,
   "metadata": {},
   "outputs": [],
   "source": [
    "s3_list = [bucket+n.strftime('/%Y/%Y%m%d00/')+m+n.strftime(f'/Days:1-10/{wx_var}_%Y%m%d00_{m}.grib2') for wx_var in var_names for n in dr for m in ens]"
   ]
  },
  {
   "cell_type": "code",
   "execution_count": 31,
   "metadata": {},
   "outputs": [],
   "source": [
    "s3_list_gen = (s3_list[i:i+5] for i in range(0, len(s3_list), 5))"
   ]
  },
  {
   "cell_type": "code",
   "execution_count": 32,
   "metadata": {},
   "outputs": [],
   "source": [
    "files = [n for n in s3_list_gen][0]"
   ]
  },
  {
   "cell_type": "code",
   "execution_count": null,
   "metadata": {},
   "outputs": [],
   "source": []
  },
  {
   "cell_type": "code",
   "execution_count": 66,
   "metadata": {},
   "outputs": [
    {
     "output_type": "stream",
     "name": "stdout",
     "text": [
      "noaa-gefs-retrospective/GEFSv12/reforecast/2000/2000052100/c00/Days:1-10/dswrf_sfc_2000052100_c00.grib2\n"
     ]
    },
    {
     "output_type": "error",
     "ename": "RuntimeError",
     "evalue": "Loop is not running",
     "traceback": [
      "\u001b[1;31m---------------------------------------------------------------------------\u001b[0m",
      "\u001b[1;31mRuntimeError\u001b[0m                              Traceback (most recent call last)",
      "\u001b[1;32m<ipython-input-66-9bc77a3b4e2f>\u001b[0m in \u001b[0;36m<module>\u001b[1;34m\u001b[0m\n\u001b[0;32m     10\u001b[0m     \u001b[1;32mawait\u001b[0m \u001b[0msession\u001b[0m\u001b[1;33m.\u001b[0m\u001b[0mclose\u001b[0m\u001b[1;33m(\u001b[0m\u001b[1;33m)\u001b[0m\u001b[1;33m\u001b[0m\u001b[1;33m\u001b[0m\u001b[0m\n\u001b[0;32m     11\u001b[0m \u001b[1;33m\u001b[0m\u001b[0m\n\u001b[1;32m---> 12\u001b[1;33m \u001b[1;32mawait\u001b[0m \u001b[0mdownload_process_file\u001b[0m\u001b[1;33m(\u001b[0m\u001b[0mfiles\u001b[0m\u001b[1;33m)\u001b[0m\u001b[1;33m\u001b[0m\u001b[1;33m\u001b[0m\u001b[0m\n\u001b[0m",
      "\u001b[1;32m<ipython-input-66-9bc77a3b4e2f>\u001b[0m in \u001b[0;36mdownload_process_file\u001b[1;34m(path)\u001b[0m\n\u001b[0;32m      5\u001b[0m     \u001b[1;31m# grib_file = base_file_name\u001b[0m\u001b[1;33m\u001b[0m\u001b[1;33m\u001b[0m\u001b[1;33m\u001b[0m\u001b[0m\n\u001b[0;32m      6\u001b[0m     \u001b[0mprint\u001b[0m\u001b[1;33m(\u001b[0m\u001b[0mpath\u001b[0m\u001b[1;33m[\u001b[0m\u001b[1;36m0\u001b[0m\u001b[1;33m]\u001b[0m\u001b[1;33m)\u001b[0m\u001b[1;33m\u001b[0m\u001b[1;33m\u001b[0m\u001b[0m\n\u001b[1;32m----> 7\u001b[1;33m     \u001b[0mfileset\u001b[0m \u001b[1;33m=\u001b[0m \u001b[0mfs\u001b[0m\u001b[1;33m.\u001b[0m\u001b[0mopen\u001b[0m\u001b[1;33m(\u001b[0m\u001b[0mpath\u001b[0m\u001b[1;33m[\u001b[0m\u001b[1;36m0\u001b[0m\u001b[1;33m]\u001b[0m\u001b[1;33m)\u001b[0m\u001b[1;33m\u001b[0m\u001b[1;33m\u001b[0m\u001b[0m\n\u001b[0m\u001b[0;32m      8\u001b[0m     \u001b[0mdata\u001b[0m \u001b[1;33m=\u001b[0m \u001b[0mxr\u001b[0m\u001b[1;33m.\u001b[0m\u001b[0mopen_mfdataset\u001b[0m\u001b[1;33m(\u001b[0m\u001b[0mfileset\u001b[0m\u001b[1;33m,\u001b[0m\u001b[0mcombine\u001b[0m\u001b[1;33m=\u001b[0m\u001b[1;34m'by_coords'\u001b[0m\u001b[1;33m)\u001b[0m\u001b[1;33m\u001b[0m\u001b[1;33m\u001b[0m\u001b[0m\n\u001b[0;32m      9\u001b[0m     \u001b[0mprint\u001b[0m\u001b[1;33m(\u001b[0m\u001b[0mdata\u001b[0m\u001b[1;33m)\u001b[0m\u001b[1;33m\u001b[0m\u001b[1;33m\u001b[0m\u001b[0m\n",
      "\u001b[1;32m~\\Anaconda3\\lib\\site-packages\\fsspec\\spec.py\u001b[0m in \u001b[0;36mopen\u001b[1;34m(self, path, mode, block_size, cache_options, **kwargs)\u001b[0m\n\u001b[0;32m    940\u001b[0m         \u001b[1;32melse\u001b[0m\u001b[1;33m:\u001b[0m\u001b[1;33m\u001b[0m\u001b[1;33m\u001b[0m\u001b[0m\n\u001b[0;32m    941\u001b[0m             \u001b[0mac\u001b[0m \u001b[1;33m=\u001b[0m \u001b[0mkwargs\u001b[0m\u001b[1;33m.\u001b[0m\u001b[0mpop\u001b[0m\u001b[1;33m(\u001b[0m\u001b[1;34m\"autocommit\"\u001b[0m\u001b[1;33m,\u001b[0m \u001b[1;32mnot\u001b[0m \u001b[0mself\u001b[0m\u001b[1;33m.\u001b[0m\u001b[0m_intrans\u001b[0m\u001b[1;33m)\u001b[0m\u001b[1;33m\u001b[0m\u001b[1;33m\u001b[0m\u001b[0m\n\u001b[1;32m--> 942\u001b[1;33m             f = self._open(\n\u001b[0m\u001b[0;32m    943\u001b[0m                 \u001b[0mpath\u001b[0m\u001b[1;33m,\u001b[0m\u001b[1;33m\u001b[0m\u001b[1;33m\u001b[0m\u001b[0m\n\u001b[0;32m    944\u001b[0m                 \u001b[0mmode\u001b[0m\u001b[1;33m=\u001b[0m\u001b[0mmode\u001b[0m\u001b[1;33m,\u001b[0m\u001b[1;33m\u001b[0m\u001b[1;33m\u001b[0m\u001b[0m\n",
      "\u001b[1;32m~\\Anaconda3\\lib\\site-packages\\s3fs\\core.py\u001b[0m in \u001b[0;36m_open\u001b[1;34m(self, path, mode, block_size, acl, version_id, fill_cache, cache_type, autocommit, requester_pays, **kwargs)\u001b[0m\n\u001b[0;32m    496\u001b[0m             \u001b[0mcache_type\u001b[0m \u001b[1;33m=\u001b[0m \u001b[0mself\u001b[0m\u001b[1;33m.\u001b[0m\u001b[0mdefault_cache_type\u001b[0m\u001b[1;33m\u001b[0m\u001b[1;33m\u001b[0m\u001b[0m\n\u001b[0;32m    497\u001b[0m \u001b[1;33m\u001b[0m\u001b[0m\n\u001b[1;32m--> 498\u001b[1;33m         return S3File(\n\u001b[0m\u001b[0;32m    499\u001b[0m             \u001b[0mself\u001b[0m\u001b[1;33m,\u001b[0m\u001b[1;33m\u001b[0m\u001b[1;33m\u001b[0m\u001b[0m\n\u001b[0;32m    500\u001b[0m             \u001b[0mpath\u001b[0m\u001b[1;33m,\u001b[0m\u001b[1;33m\u001b[0m\u001b[1;33m\u001b[0m\u001b[0m\n",
      "\u001b[1;32m~\\Anaconda3\\lib\\site-packages\\s3fs\\core.py\u001b[0m in \u001b[0;36m__init__\u001b[1;34m(self, s3, path, mode, block_size, acl, version_id, fill_cache, s3_additional_kwargs, autocommit, cache_type, requester_pays)\u001b[0m\n\u001b[0;32m   1736\u001b[0m                 \u001b[0mself\u001b[0m\u001b[1;33m.\u001b[0m\u001b[0mdetails\u001b[0m \u001b[1;33m=\u001b[0m \u001b[0ms3\u001b[0m\u001b[1;33m.\u001b[0m\u001b[0minfo\u001b[0m\u001b[1;33m(\u001b[0m\u001b[0mpath\u001b[0m\u001b[1;33m)\u001b[0m\u001b[1;33m\u001b[0m\u001b[1;33m\u001b[0m\u001b[0m\n\u001b[0;32m   1737\u001b[0m                 \u001b[0mself\u001b[0m\u001b[1;33m.\u001b[0m\u001b[0mversion_id\u001b[0m \u001b[1;33m=\u001b[0m \u001b[0mself\u001b[0m\u001b[1;33m.\u001b[0m\u001b[0mdetails\u001b[0m\u001b[1;33m.\u001b[0m\u001b[0mget\u001b[0m\u001b[1;33m(\u001b[0m\u001b[1;34m\"VersionId\"\u001b[0m\u001b[1;33m)\u001b[0m\u001b[1;33m\u001b[0m\u001b[1;33m\u001b[0m\u001b[0m\n\u001b[1;32m-> 1738\u001b[1;33m         super().__init__(\n\u001b[0m\u001b[0;32m   1739\u001b[0m             \u001b[0ms3\u001b[0m\u001b[1;33m,\u001b[0m \u001b[0mpath\u001b[0m\u001b[1;33m,\u001b[0m \u001b[0mmode\u001b[0m\u001b[1;33m,\u001b[0m \u001b[0mblock_size\u001b[0m\u001b[1;33m,\u001b[0m \u001b[0mautocommit\u001b[0m\u001b[1;33m=\u001b[0m\u001b[0mautocommit\u001b[0m\u001b[1;33m,\u001b[0m \u001b[0mcache_type\u001b[0m\u001b[1;33m=\u001b[0m\u001b[0mcache_type\u001b[0m\u001b[1;33m\u001b[0m\u001b[1;33m\u001b[0m\u001b[0m\n\u001b[0;32m   1740\u001b[0m         )\n",
      "\u001b[1;32m~\\Anaconda3\\lib\\site-packages\\fsspec\\spec.py\u001b[0m in \u001b[0;36m__init__\u001b[1;34m(self, fs, path, mode, block_size, autocommit, cache_type, cache_options, **kwargs)\u001b[0m\n\u001b[0;32m   1268\u001b[0m         \u001b[1;32mif\u001b[0m \u001b[0mmode\u001b[0m \u001b[1;33m==\u001b[0m \u001b[1;34m\"rb\"\u001b[0m\u001b[1;33m:\u001b[0m\u001b[1;33m\u001b[0m\u001b[1;33m\u001b[0m\u001b[0m\n\u001b[0;32m   1269\u001b[0m             \u001b[1;32mif\u001b[0m \u001b[1;32mnot\u001b[0m \u001b[0mhasattr\u001b[0m\u001b[1;33m(\u001b[0m\u001b[0mself\u001b[0m\u001b[1;33m,\u001b[0m \u001b[1;34m\"details\"\u001b[0m\u001b[1;33m)\u001b[0m\u001b[1;33m:\u001b[0m\u001b[1;33m\u001b[0m\u001b[1;33m\u001b[0m\u001b[0m\n\u001b[1;32m-> 1270\u001b[1;33m                 \u001b[0mself\u001b[0m\u001b[1;33m.\u001b[0m\u001b[0mdetails\u001b[0m \u001b[1;33m=\u001b[0m \u001b[0mfs\u001b[0m\u001b[1;33m.\u001b[0m\u001b[0minfo\u001b[0m\u001b[1;33m(\u001b[0m\u001b[0mpath\u001b[0m\u001b[1;33m)\u001b[0m\u001b[1;33m\u001b[0m\u001b[1;33m\u001b[0m\u001b[0m\n\u001b[0m\u001b[0;32m   1271\u001b[0m             \u001b[0mself\u001b[0m\u001b[1;33m.\u001b[0m\u001b[0msize\u001b[0m \u001b[1;33m=\u001b[0m \u001b[0mself\u001b[0m\u001b[1;33m.\u001b[0m\u001b[0mdetails\u001b[0m\u001b[1;33m[\u001b[0m\u001b[1;34m\"size\"\u001b[0m\u001b[1;33m]\u001b[0m\u001b[1;33m\u001b[0m\u001b[1;33m\u001b[0m\u001b[0m\n\u001b[0;32m   1272\u001b[0m             self.cache = caches[cache_type](\n",
      "\u001b[1;32m~\\Anaconda3\\lib\\site-packages\\fsspec\\asyn.py\u001b[0m in \u001b[0;36mwrapper\u001b[1;34m(*args, **kwargs)\u001b[0m\n\u001b[0;32m     70\u001b[0m     \u001b[1;32mdef\u001b[0m \u001b[0mwrapper\u001b[0m\u001b[1;33m(\u001b[0m\u001b[1;33m*\u001b[0m\u001b[0margs\u001b[0m\u001b[1;33m,\u001b[0m \u001b[1;33m**\u001b[0m\u001b[0mkwargs\u001b[0m\u001b[1;33m)\u001b[0m\u001b[1;33m:\u001b[0m\u001b[1;33m\u001b[0m\u001b[1;33m\u001b[0m\u001b[0m\n\u001b[0;32m     71\u001b[0m         \u001b[0mself\u001b[0m \u001b[1;33m=\u001b[0m \u001b[0mobj\u001b[0m \u001b[1;32mor\u001b[0m \u001b[0margs\u001b[0m\u001b[1;33m[\u001b[0m\u001b[1;36m0\u001b[0m\u001b[1;33m]\u001b[0m\u001b[1;33m\u001b[0m\u001b[1;33m\u001b[0m\u001b[0m\n\u001b[1;32m---> 72\u001b[1;33m         \u001b[1;32mreturn\u001b[0m \u001b[0msync\u001b[0m\u001b[1;33m(\u001b[0m\u001b[0mself\u001b[0m\u001b[1;33m.\u001b[0m\u001b[0mloop\u001b[0m\u001b[1;33m,\u001b[0m \u001b[0mfunc\u001b[0m\u001b[1;33m,\u001b[0m \u001b[1;33m*\u001b[0m\u001b[0margs\u001b[0m\u001b[1;33m,\u001b[0m \u001b[1;33m**\u001b[0m\u001b[0mkwargs\u001b[0m\u001b[1;33m)\u001b[0m\u001b[1;33m\u001b[0m\u001b[1;33m\u001b[0m\u001b[0m\n\u001b[0m\u001b[0;32m     73\u001b[0m \u001b[1;33m\u001b[0m\u001b[0m\n\u001b[0;32m     74\u001b[0m     \u001b[1;32mreturn\u001b[0m \u001b[0mwrapper\u001b[0m\u001b[1;33m\u001b[0m\u001b[1;33m\u001b[0m\u001b[0m\n",
      "\u001b[1;32m~\\Anaconda3\\lib\\site-packages\\fsspec\\asyn.py\u001b[0m in \u001b[0;36msync\u001b[1;34m(loop, func, timeout, *args, **kwargs)\u001b[0m\n\u001b[0;32m     38\u001b[0m     \u001b[1;31m# and we will wait for it\u001b[0m\u001b[1;33m\u001b[0m\u001b[1;33m\u001b[0m\u001b[1;33m\u001b[0m\u001b[0m\n\u001b[0;32m     39\u001b[0m     \u001b[1;32mif\u001b[0m \u001b[0mloop\u001b[0m \u001b[1;32mis\u001b[0m \u001b[1;32mNone\u001b[0m \u001b[1;32mor\u001b[0m \u001b[0mloop\u001b[0m\u001b[1;33m.\u001b[0m\u001b[0mis_closed\u001b[0m\u001b[1;33m(\u001b[0m\u001b[1;33m)\u001b[0m\u001b[1;33m:\u001b[0m\u001b[1;33m\u001b[0m\u001b[1;33m\u001b[0m\u001b[0m\n\u001b[1;32m---> 40\u001b[1;33m         \u001b[1;32mraise\u001b[0m \u001b[0mRuntimeError\u001b[0m\u001b[1;33m(\u001b[0m\u001b[1;34m\"Loop is not running\"\u001b[0m\u001b[1;33m)\u001b[0m\u001b[1;33m\u001b[0m\u001b[1;33m\u001b[0m\u001b[0m\n\u001b[0m\u001b[0;32m     41\u001b[0m     \u001b[1;32mtry\u001b[0m\u001b[1;33m:\u001b[0m\u001b[1;33m\u001b[0m\u001b[1;33m\u001b[0m\u001b[0m\n\u001b[0;32m     42\u001b[0m         \u001b[0mloop0\u001b[0m \u001b[1;33m=\u001b[0m \u001b[0mgrl\u001b[0m\u001b[1;33m(\u001b[0m\u001b[1;33m)\u001b[0m\u001b[1;33m\u001b[0m\u001b[1;33m\u001b[0m\u001b[0m\n",
      "\u001b[1;31mRuntimeError\u001b[0m: Loop is not running"
     ]
    }
   ],
   "source": [
    "async def download_process_file(path): \n",
    "    # base_file_name = path.split(\"/\")[-1]\n",
    "    fs = s3fs.S3FileSystem(anon=True, asynchronous=True)\n",
    "    session = await fs.set_session()\n",
    "    # grib_file = base_file_name\n",
    "    print(path[0])\n",
    "    fileset = fs.open(path[0])\n",
    "    data = xr.open_mfdataset(fileset,combine='by_coords')\n",
    "    print(data)\n",
    "    await session.close()\n",
    "\n",
    "await download_process_file(files)"
   ]
  },
  {
   "cell_type": "code",
   "execution_count": null,
   "metadata": {},
   "outputs": [],
   "source": [
    "noaa-gefs-retrospective/GEFSv12/reforecast/2000/2000052100/c00/Days:1-10/dswrf_sfc_2000052100_.grib2"
   ]
  },
  {
   "cell_type": "code",
   "execution_count": 10,
   "metadata": {
    "ExecuteTime": {
     "end_time": "2021-05-11T17:36:50.537206Z",
     "start_time": "2021-05-11T17:36:50.069391Z"
    }
   },
   "outputs": [
    {
     "output_type": "error",
     "ename": "NameError",
     "evalue": "name 'boto3' is not defined",
     "traceback": [
      "\u001b[1;31m---------------------------------------------------------------------------\u001b[0m",
      "\u001b[1;31mNameError\u001b[0m                                 Traceback (most recent call last)",
      "\u001b[1;32m<ipython-input-10-52c63b0583da>\u001b[0m in \u001b[0;36m<module>\u001b[1;34m\u001b[0m\n\u001b[0;32m      3\u001b[0m \u001b[0mvnames\u001b[0m \u001b[1;33m=\u001b[0m \u001b[1;33m[\u001b[0m\u001b[1;34m'dswrf_sfc_'\u001b[0m\u001b[1;33m]\u001b[0m \u001b[1;31m# ,'apcp_sfc_']'hgt_pres_abv700mb_','pres_msl_','tmp_pres_','pwat_eatm_', 'ugrd_hgt_','vgrd_hgt_' add in later\u001b[0m\u001b[1;33m\u001b[0m\u001b[1;33m\u001b[0m\u001b[0m\n\u001b[0;32m      4\u001b[0m \u001b[0mens\u001b[0m \u001b[1;33m=\u001b[0m \u001b[1;33m[\u001b[0m\u001b[1;34m'c00'\u001b[0m\u001b[1;33m,\u001b[0m\u001b[1;34m'p01'\u001b[0m\u001b[1;33m,\u001b[0m\u001b[1;34m'p02'\u001b[0m\u001b[1;33m,\u001b[0m\u001b[1;34m'p03'\u001b[0m\u001b[1;33m,\u001b[0m\u001b[1;34m'p04'\u001b[0m\u001b[1;33m]\u001b[0m\u001b[1;33m\u001b[0m\u001b[1;33m\u001b[0m\u001b[0m\n\u001b[1;32m----> 5\u001b[1;33m \u001b[0ms3\u001b[0m \u001b[1;33m=\u001b[0m \u001b[0mboto3\u001b[0m\u001b[1;33m.\u001b[0m\u001b[0mclient\u001b[0m\u001b[1;33m(\u001b[0m\u001b[1;34m's3'\u001b[0m\u001b[1;33m)\u001b[0m\u001b[1;33m\u001b[0m\u001b[1;33m\u001b[0m\u001b[0m\n\u001b[0m\u001b[0;32m      6\u001b[0m \u001b[1;33m\u001b[0m\u001b[0m\n\u001b[0;32m      7\u001b[0m \u001b[0mdr\u001b[0m \u001b[1;33m=\u001b[0m \u001b[0mdate_range_seasonal\u001b[0m\u001b[1;33m(\u001b[0m\u001b[1;34m'jja'\u001b[0m\u001b[1;33m)\u001b[0m\u001b[1;33m\u001b[0m\u001b[1;33m\u001b[0m\u001b[0m\n",
      "\u001b[1;31mNameError\u001b[0m: name 'boto3' is not defined"
     ]
    }
   ],
   "source": [
    "source = 'https://noaa-gefs-retrospective.s3.amazonaws.com/GEFSv12/reforecast/'\n",
    "bucket = 'noaa-gefs-retrospective'\n",
    "vnames = ['dswrf_sfc_'] # ,'apcp_sfc_']'hgt_pres_abv700mb_','pres_msl_','tmp_pres_','pwat_eatm_', 'ugrd_hgt_','vgrd_hgt_' add in later\n",
    "ens = ['c00','p01','p02','p03','p04']\n",
    "s3 = boto3.client('s3')\n",
    "\n",
    "dr = date_range_seasonal('jja')\n",
    "varname = vnames[0]\n",
    "year = 2000\n",
    "\n",
    "dr_str = [day.strftime('%Y%m%d00') for day in dr]\n",
    "out = s3.list_objects_v2(Bucket='noaa-gefs-retrospective',Delimiter='/',Prefix=f'GEFSv12/reforecast/{year}/',MaxKeys=370)\n",
    "valid_files = [m['Prefix'][-11:-1] for m in out['CommonPrefixes'] if m['Prefix'][-11:-1] in dr_str]\n",
    "source_links = [f'{source}{year}/{m}/' for m in valid_files]\n",
    "source_links_ens = (f'{o}{m}/Days:1-10/{varname}{o[-11:-1]}_{m}.grib2' for o in source_links for m in ens)"
   ]
  },
  {
   "cell_type": "code",
   "execution_count": null,
   "metadata": {},
   "outputs": [],
   "source": [
    "i=0\n",
    "for link in source_links_ens:\n",
    "    if f'nh_time_{link[98:-10]}_mean.nc' in os.listdir('mean'):\n",
    "        # print(f'nh_time_{link[98:-10]} already completed')\n",
    "        pass\n",
    "    else:\n",
    "        ens_num = ens[i%5]\n",
    "        if f'{link[98:]}' in os.listdir():\n",
    "            # print(f'{link[98:]} already downloaded')\n",
    "            pass\n",
    "        else:\n",
    "#             urllib.request.urlretrieve(link, f'{link[98:]}')\n",
    "            print('url retrieved')\n",
    "        subprocess.run(['grib_to_netcdf', '-k', '4', '-d1', '-s', '-o', f'{link[98:-6]}.nc', f'{link[98:]}'])\n",
    "        if f'{link[98:-6]}.nc' in os.listdir('tmp'):\n",
    "            pass\n",
    "        elif f'{link[98:-6]}.nc' in os.listdir():\n",
    "            cds = xr.open_dataset(f'{link[98:-6]}.nc',chunks={})\n",
    "            comp = dict(zlib=True, complevel=5, shuffle=True)\n",
    "            encoding = {var: comp for var in cds.data_vars}\n",
    "            date_init = np.datetime64(datetime.strptime(link[-20:-10], '%Y%m%d00'))\n",
    "            timedeltas = pd.to_timedelta(cds.time - date_init)\n",
    "            timedeltas_7day = timedeltas[timedeltas <= '7 days 00:00:00']\n",
    "            if 'height' in varname:\n",
    "                try:\n",
    "                    cds = cds.sel(isobaricInhPa=500)\n",
    "                except:\n",
    "                    cds = cds.sel(level=500)\n",
    "            elif 'tmp_pres' in varname:\n",
    "                try:\n",
    "                    cds = cds.sel(isobaricInhPa=850)\n",
    "                except:\n",
    "                    cds = cds.sel(level=850)\n",
    "            cds = cds.isel(time = slice(0,len(timedeltas_7day)))\n",
    "            cds = cds.sel(latitude=slice(60,0))\n",
    "            cds = cds.expand_dims('member')\n",
    "            cds.to_netcdf(f'tmp/{link[98:-6]}.nc',encoding=encoding)\n",
    "        else:\n",
    "            pass\n",
    "        i+=1\n",
    "        if ens_num == 'p04':\n",
    "            lorg = xr.open_mfdataset('tmp/*.nc',combine='nested',concat_dim='member',data_vars='minimal',coords='minimal',compat='override')\n",
    "            lorg_mean = lorg.mean('member')\n",
    "            lorg_mean = lorg_mean.expand_dims('date')\n",
    "            lorg_std = lorg.std('member')\n",
    "            lorg_std = lorg_std.expand_dims('date')\n",
    "            comp = dict(zlib=True, complevel=5, shuffle=True)\n",
    "            encoding = {var: comp for var in lorg.data_vars}\n",
    "            lorg_mean.to_netcdf(f'mean/nh_time_{link[98:-10]}_mean.nc',encoding=encoding)\n",
    "            # subprocess.run(['nccopy', '-u', '-s', '-d2', f'mean/nh_time_{link[98:-10]}_mean.nc',f'mean/nh_time_{link[98:-10]}_mean_d2.nc'])\n",
    "            lorg_std.to_netcdf(f'std/nh_time_{link[98:-10]}_std.nc',encoding=encoding)\n",
    "            # subprocess.run(['nccopy', '-u', '-s', '-d2', f'std/nh_time_{link[98:-10]}_std.nc',f'std/nh_time_{link[98:-10]}_std_d2.nc'])\n",
    "            [os.remove(fname) for fname in os.listdir() if bool(re.search(r'\\d.', fname))]\n",
    "            [os.remove(f'tmp/{fname}') for fname in os.listdir('tmp') if bool(re.search(r'\\d.', fname))]\n",
    "            print(f'{link[98:-10]} finished')\n",
    "print(f'finished {year}')\n",
    "for folder in ['mean','std']:\n",
    "    if f'{link[98:-21]}_nh_{season}_{folder}.nc' in os.listdir(f'{folder}'):\n",
    "        pass\n",
    "    else:\n",
    "        big_xr = xr.open_mfdataset(f'{folder}/nh_time_{link[98:-21]}*',engine='netcdf4')\n",
    "        big_xr.to_netcdf(f'{folder}/{link[98:-21]}_nh_{season}_{folder}.nc')\n",
    "    if f'{link[98:-21]}_nh_{season}_{folder}_d1.nc' in os.listdir(f'{folder}'):\n",
    "        pass\n",
    "    else:\n",
    "        subprocess.run(['nccopy', '-u', '-s', '-d1', f'{folder}/{link[98:-21]}_nh_{season}_{folder}.nc', f'{folder}/{link[98:-21]}_nh_{season}_{folder}_d1.nc'])"
   ]
  }
 ],
 "metadata": {
  "kernelspec": {
   "name": "python385jvsc74a57bd0c5503dd349d7b17e51ad2dd02bf2c059960c94d810755a147fbe559e3d325cd7",
   "display_name": "Python 3.8.5 64-bit ('base': conda)"
  },
  "language_info": {
   "codemirror_mode": {
    "name": "ipython",
    "version": 3
   },
   "file_extension": ".py",
   "mimetype": "text/x-python",
   "name": "python",
   "nbconvert_exporter": "python",
   "pygments_lexer": "ipython3",
   "version": "3.8.5"
  },
  "toc": {
   "base_numbering": 1,
   "nav_menu": {},
   "number_sections": true,
   "sideBar": true,
   "skip_h1_title": false,
   "title_cell": "Table of Contents",
   "title_sidebar": "Contents",
   "toc_cell": false,
   "toc_position": {},
   "toc_section_display": true,
   "toc_window_display": false
  }
 },
 "nbformat": 4,
 "nbformat_minor": 2
}