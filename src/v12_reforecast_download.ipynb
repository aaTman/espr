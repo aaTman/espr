{
 "cells": [
  {
   "cell_type": "code",
   "execution_count": 4,
   "metadata": {},
   "outputs": [
    {
     "output_type": "stream",
     "name": "stderr",
     "text": [
      "ERROR: Invalid requirement: 'xarray,'\n"
     ]
    }
   ],
   "source": [
    "!pip install  s3fs"
   ]
  },
  {
   "cell_type": "code",
   "execution_count": 5,
   "metadata": {
    "ExecuteTime": {
     "end_time": "2021-05-11T17:36:49.310441Z",
     "start_time": "2021-05-11T17:36:47.503776Z"
    }
   },
   "outputs": [],
   "source": [
    "import subprocess\n",
    "import pandas as pd \n",
    "import boto3\n",
    "import xarray as xr\n",
    "import urllib \n",
    "import os\n",
    "import re\n",
    "from datetime import datetime, timedelta\n",
    "import numpy as np\n",
    "import s3fs\n",
    "\n",
    "def date_range_seasonal(season, date_range=None):\n",
    "    if date_range is not None:\n",
    "        pass\n",
    "    else:\n",
    "        date_range = pd.date_range('2000-01-01','2019-12-31')\n",
    "    season_dict = {\n",
    "        'djf':[11,12,1,2,3],\n",
    "        'mam':[2,3,4,5,6],\n",
    "        'jja':[5,6,7,8,9],\n",
    "        'son':[8,9,10,11,12]\n",
    "    }\n",
    "    dr = date_range[date_range.month.isin(season_dict[season]) &\n",
    "                    ((date_range.month != season_dict[season][0]) | (date_range.day >= 21)) & \n",
    "            ((date_range.month != season_dict[season][-1]) | (date_range.day <= 10))\n",
    "                   ]\n",
    "    return dr"
   ]
  },
  {
   "cell_type": "code",
   "execution_count": 7,
   "metadata": {},
   "outputs": [],
   "source": [
    "bucket = 'noaa-gefs-retrospective/GEFSv12/reforecast'\n",
    "ens = ['c00','p01','p02','p03','p04']\n",
    "season = 'jja'"
   ]
  },
  {
   "cell_type": "code",
   "execution_count": 8,
   "metadata": {},
   "outputs": [],
   "source": [
    "dr = date_range_seasonal(season)"
   ]
  },
  {
   "cell_type": "code",
   "execution_count": 10,
   "metadata": {},
   "outputs": [],
   "source": [
    "fs = s3fs.S3FileSystem(anon=True)"
   ]
  },
  {
   "cell_type": "code",
   "execution_count": 15,
   "metadata": {},
   "outputs": [
    {
     "output_type": "execute_result",
     "data": {
      "text/plain": [
       "['noaa-gefs-retrospective/GEFSv12/reforecast/',\n",
       " 'noaa-gefs-retrospective/GEFSv12/reforecast/2000',\n",
       " 'noaa-gefs-retrospective/GEFSv12/reforecast/2001',\n",
       " 'noaa-gefs-retrospective/GEFSv12/reforecast/2002',\n",
       " 'noaa-gefs-retrospective/GEFSv12/reforecast/2003',\n",
       " 'noaa-gefs-retrospective/GEFSv12/reforecast/2004',\n",
       " 'noaa-gefs-retrospective/GEFSv12/reforecast/2005',\n",
       " 'noaa-gefs-retrospective/GEFSv12/reforecast/2006',\n",
       " 'noaa-gefs-retrospective/GEFSv12/reforecast/2007',\n",
       " 'noaa-gefs-retrospective/GEFSv12/reforecast/2008',\n",
       " 'noaa-gefs-retrospective/GEFSv12/reforecast/2009',\n",
       " 'noaa-gefs-retrospective/GEFSv12/reforecast/2010',\n",
       " 'noaa-gefs-retrospective/GEFSv12/reforecast/2011',\n",
       " 'noaa-gefs-retrospective/GEFSv12/reforecast/2012',\n",
       " 'noaa-gefs-retrospective/GEFSv12/reforecast/2013',\n",
       " 'noaa-gefs-retrospective/GEFSv12/reforecast/2014',\n",
       " 'noaa-gefs-retrospective/GEFSv12/reforecast/2015',\n",
       " 'noaa-gefs-retrospective/GEFSv12/reforecast/2016',\n",
       " 'noaa-gefs-retrospective/GEFSv12/reforecast/2017',\n",
       " 'noaa-gefs-retrospective/GEFSv12/reforecast/2018',\n",
       " 'noaa-gefs-retrospective/GEFSv12/reforecast/2019']"
      ]
     },
     "metadata": {},
     "execution_count": 15
    }
   ],
   "source": [
    "fs.ls(bucket+'/')"
   ]
  },
  {
   "cell_type": "code",
   "execution_count": 2,
   "metadata": {
    "ExecuteTime": {
     "end_time": "2021-05-11T17:36:50.537206Z",
     "start_time": "2021-05-11T17:36:50.069391Z"
    }
   },
   "outputs": [],
   "source": [
    "source = 'https://noaa-gefs-retrospective.s3.amazonaws.com/GEFSv12/reforecast/'\n",
    "bucket = 'noaa-gefs-retrospective'\n",
    "vnames = ['dswrf_sfc_'] # ,'apcp_sfc_']'hgt_pres_abv700mb_','pres_msl_','tmp_pres_','pwat_eatm_', 'ugrd_hgt_','vgrd_hgt_' add in later\n",
    "ens = ['c00','p01','p02','p03','p04']\n",
    "s3 = boto3.client('s3')\n",
    "\n",
    "dr = date_range_seasonal('jja')\n",
    "varname = vnames[0]\n",
    "year = 2000\n",
    "\n",
    "dr_str = [day.strftime('%Y%m%d00') for day in dr]\n",
    "out = s3.list_objects_v2(Bucket='noaa-gefs-retrospective',Delimiter='/',Prefix=f'GEFSv12/reforecast/{year}/',MaxKeys=370)\n",
    "valid_files = [m['Prefix'][-11:-1] for m in out['CommonPrefixes'] if m['Prefix'][-11:-1] in dr_str]\n",
    "source_links = [f'{source}{year}/{m}/' for m in valid_files]\n",
    "source_links_ens = (f'{o}{m}/Days:1-10/{varname}{o[-11:-1]}_{m}.grib2' for o in source_links for m in ens)"
   ]
  },
  {
   "cell_type": "code",
   "execution_count": null,
   "metadata": {},
   "outputs": [],
   "source": [
    "i=0\n",
    "for link in source_links_ens:\n",
    "    if f'nh_time_{link[98:-10]}_mean.nc' in os.listdir('mean'):\n",
    "        # print(f'nh_time_{link[98:-10]} already completed')\n",
    "        pass\n",
    "    else:\n",
    "        ens_num = ens[i%5]\n",
    "        if f'{link[98:]}' in os.listdir():\n",
    "            # print(f'{link[98:]} already downloaded')\n",
    "            pass\n",
    "        else:\n",
    "#             urllib.request.urlretrieve(link, f'{link[98:]}')\n",
    "            print('url retrieved')\n",
    "        subprocess.run(['grib_to_netcdf', '-k', '4', '-d1', '-s', '-o', f'{link[98:-6]}.nc', f'{link[98:]}'])\n",
    "        if f'{link[98:-6]}.nc' in os.listdir('tmp'):\n",
    "            pass\n",
    "        elif f'{link[98:-6]}.nc' in os.listdir():\n",
    "            cds = xr.open_dataset(f'{link[98:-6]}.nc',chunks={})\n",
    "            comp = dict(zlib=True, complevel=5, shuffle=True)\n",
    "            encoding = {var: comp for var in cds.data_vars}\n",
    "            date_init = np.datetime64(datetime.strptime(link[-20:-10], '%Y%m%d00'))\n",
    "            timedeltas = pd.to_timedelta(cds.time - date_init)\n",
    "            timedeltas_7day = timedeltas[timedeltas <= '7 days 00:00:00']\n",
    "            if 'height' in varname:\n",
    "                try:\n",
    "                    cds = cds.sel(isobaricInhPa=500)\n",
    "                except:\n",
    "                    cds = cds.sel(level=500)\n",
    "            elif 'tmp_pres' in varname:\n",
    "                try:\n",
    "                    cds = cds.sel(isobaricInhPa=850)\n",
    "                except:\n",
    "                    cds = cds.sel(level=850)\n",
    "            cds = cds.isel(time = slice(0,len(timedeltas_7day)))\n",
    "            cds = cds.sel(latitude=slice(60,0))\n",
    "            cds = cds.expand_dims('member')\n",
    "            cds.to_netcdf(f'tmp/{link[98:-6]}.nc',encoding=encoding)\n",
    "        else:\n",
    "            pass\n",
    "        i+=1\n",
    "        if ens_num == 'p04':\n",
    "            lorg = xr.open_mfdataset('tmp/*.nc',combine='nested',concat_dim='member',data_vars='minimal',coords='minimal',compat='override')\n",
    "            lorg_mean = lorg.mean('member')\n",
    "            lorg_mean = lorg_mean.expand_dims('date')\n",
    "            lorg_std = lorg.std('member')\n",
    "            lorg_std = lorg_std.expand_dims('date')\n",
    "            comp = dict(zlib=True, complevel=5, shuffle=True)\n",
    "            encoding = {var: comp for var in lorg.data_vars}\n",
    "            lorg_mean.to_netcdf(f'mean/nh_time_{link[98:-10]}_mean.nc',encoding=encoding)\n",
    "            # subprocess.run(['nccopy', '-u', '-s', '-d2', f'mean/nh_time_{link[98:-10]}_mean.nc',f'mean/nh_time_{link[98:-10]}_mean_d2.nc'])\n",
    "            lorg_std.to_netcdf(f'std/nh_time_{link[98:-10]}_std.nc',encoding=encoding)\n",
    "            # subprocess.run(['nccopy', '-u', '-s', '-d2', f'std/nh_time_{link[98:-10]}_std.nc',f'std/nh_time_{link[98:-10]}_std_d2.nc'])\n",
    "            [os.remove(fname) for fname in os.listdir() if bool(re.search(r'\\d.', fname))]\n",
    "            [os.remove(f'tmp/{fname}') for fname in os.listdir('tmp') if bool(re.search(r'\\d.', fname))]\n",
    "            print(f'{link[98:-10]} finished')\n",
    "print(f'finished {year}')\n",
    "for folder in ['mean','std']:\n",
    "    if f'{link[98:-21]}_nh_{season}_{folder}.nc' in os.listdir(f'{folder}'):\n",
    "        pass\n",
    "    else:\n",
    "        big_xr = xr.open_mfdataset(f'{folder}/nh_time_{link[98:-21]}*',engine='netcdf4')\n",
    "        big_xr.to_netcdf(f'{folder}/{link[98:-21]}_nh_{season}_{folder}.nc')\n",
    "    if f'{link[98:-21]}_nh_{season}_{folder}_d1.nc' in os.listdir(f'{folder}'):\n",
    "        pass\n",
    "    else:\n",
    "        subprocess.run(['nccopy', '-u', '-s', '-d1', f'{folder}/{link[98:-21]}_nh_{season}_{folder}.nc', f'{folder}/{link[98:-21]}_nh_{season}_{folder}_d1.nc'])"
   ]
  }
 ],
 "metadata": {
  "kernelspec": {
   "name": "python385jvsc74a57bd0c5503dd349d7b17e51ad2dd02bf2c059960c94d810755a147fbe559e3d325cd7",
   "display_name": "Python 3.8.5 64-bit ('base': conda)"
  },
  "language_info": {
   "codemirror_mode": {
    "name": "ipython",
    "version": 3
   },
   "file_extension": ".py",
   "mimetype": "text/x-python",
   "name": "python",
   "nbconvert_exporter": "python",
   "pygments_lexer": "ipython3",
   "version": "3.8.5"
  },
  "toc": {
   "base_numbering": 1,
   "nav_menu": {},
   "number_sections": true,
   "sideBar": true,
   "skip_h1_title": false,
   "title_cell": "Table of Contents",
   "title_sidebar": "Contents",
   "toc_cell": false,
   "toc_position": {},
   "toc_section_display": true,
   "toc_window_display": false
  }
 },
 "nbformat": 4,
 "nbformat_minor": 2
}