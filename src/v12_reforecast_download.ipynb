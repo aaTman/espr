{
 "cells": [
  {
   "cell_type": "code",
   "execution_count": 1,
   "metadata": {
    "ExecuteTime": {
     "end_time": "2021-05-11T17:36:49.310441Z",
     "start_time": "2021-05-11T17:36:47.503776Z"
    }
   },
   "outputs": [
    {
     "output_type": "error",
     "ename": "ModuleNotFoundError",
     "evalue": "No module named 'cfgrib'",
     "traceback": [
      "\u001b[1;31m---------------------------------------------------------------------------\u001b[0m",
      "\u001b[1;31mModuleNotFoundError\u001b[0m                       Traceback (most recent call last)",
      "\u001b[1;32m<ipython-input-1-9f4d8bf259c2>\u001b[0m in \u001b[0;36m<module>\u001b[1;34m\u001b[0m\n\u001b[0;32m     13\u001b[0m \u001b[1;32mimport\u001b[0m \u001b[0mtime\u001b[0m\u001b[1;33m\u001b[0m\u001b[1;33m\u001b[0m\u001b[0m\n\u001b[0;32m     14\u001b[0m \u001b[1;32mfrom\u001b[0m \u001b[0mtempfile\u001b[0m \u001b[1;32mimport\u001b[0m \u001b[0mTemporaryDirectory\u001b[0m\u001b[1;33m\u001b[0m\u001b[1;33m\u001b[0m\u001b[0m\n\u001b[1;32m---> 15\u001b[1;33m \u001b[1;32mimport\u001b[0m \u001b[0mcfgrib\u001b[0m\u001b[1;33m\u001b[0m\u001b[1;33m\u001b[0m\u001b[0m\n\u001b[0m\u001b[0;32m     16\u001b[0m \u001b[1;32mdef\u001b[0m \u001b[0mdate_range_seasonal\u001b[0m\u001b[1;33m(\u001b[0m\u001b[0mseason\u001b[0m\u001b[1;33m,\u001b[0m \u001b[0mdate_range\u001b[0m\u001b[1;33m=\u001b[0m\u001b[1;32mNone\u001b[0m\u001b[1;33m)\u001b[0m\u001b[1;33m:\u001b[0m\u001b[1;33m\u001b[0m\u001b[1;33m\u001b[0m\u001b[0m\n\u001b[0;32m     17\u001b[0m     \u001b[1;32mif\u001b[0m \u001b[0mdate_range\u001b[0m \u001b[1;32mis\u001b[0m \u001b[1;32mnot\u001b[0m \u001b[1;32mNone\u001b[0m\u001b[1;33m:\u001b[0m\u001b[1;33m\u001b[0m\u001b[1;33m\u001b[0m\u001b[0m\n",
      "\u001b[1;31mModuleNotFoundError\u001b[0m: No module named 'cfgrib'"
     ]
    }
   ],
   "source": [
    "import subprocess\n",
    "import pandas as pd\n",
    "import xarray as xr\n",
    "import urllib \n",
    "import os\n",
    "import re\n",
    "from datetime import datetime, timedelta\n",
    "import numpy as np\n",
    "import s3fs\n",
    "import asyncio\n",
    "import aiobotocore\n",
    "import aiofiles\n",
    "import time\n",
    "from tempfile import TemporaryDirectory\n",
    "import cfgrib\n",
    "def date_range_seasonal(season, date_range=None):\n",
    "    if date_range is not None:\n",
    "        pass\n",
    "    else:\n",
    "        date_range = pd.date_range('2000-01-01','2019-12-31')\n",
    "    season_dict = {\n",
    "        'djf':[11,12,1,2,3],\n",
    "        'mam':[2,3,4,5,6],\n",
    "        'jja':[5,6,7,8,9],\n",
    "        'son':[8,9,10,11,12]\n",
    "    }\n",
    "    dr = date_range[date_range.month.isin(season_dict[season]) &\n",
    "                    ((date_range.month != season_dict[season][0]) | (date_range.day >= 21)) & \n",
    "            ((date_range.month != season_dict[season][-1]) | (date_range.day <= 10))\n",
    "                   ]\n",
    "    return dr"
   ]
  },
  {
   "cell_type": "code",
   "execution_count": 2,
   "metadata": {},
   "outputs": [],
   "source": [
    "bucket = 'noaa-gefs-retrospective/GEFSv12/reforecast'\n",
    "ens = ['c00','p01','p02','p03','p04']\n",
    "season = 'jja'\n",
    "var_names = ['dswrf_sfc','apcp_eatm']"
   ]
  },
  {
   "cell_type": "code",
   "execution_count": 3,
   "metadata": {},
   "outputs": [],
   "source": [
    "dr = date_range_seasonal(season)"
   ]
  },
  {
   "cell_type": "code",
   "execution_count": 4,
   "metadata": {},
   "outputs": [],
   "source": [
    "s3_list = ['GEFSv12/reforecast'+n.strftime('/%Y/%Y%m%d00/')+m+n.strftime(f'/Days:1-10/{wx_var}_%Y%m%d00_{m}.grib2') for wx_var in var_names for n in dr for m in ens]"
   ]
  },
  {
   "cell_type": "code",
   "execution_count": 5,
   "metadata": {},
   "outputs": [],
   "source": [
    "s3_list_gen = (s3_list[i:i+5] for i in range(0, len(s3_list), 5))"
   ]
  },
  {
   "cell_type": "code",
   "execution_count": 6,
   "metadata": {},
   "outputs": [],
   "source": [
    "files = [n for n in s3_list_gen][0]"
   ]
  },
  {
   "cell_type": "code",
   "execution_count": 7,
   "metadata": {},
   "outputs": [
    {
     "output_type": "execute_result",
     "data": {
      "text/plain": [
       "'GEFSv12/reforecast/2000/2000052100/c00/Days:1-10/dswrf_sfc_2000052100_c00.grib2'"
      ]
     },
     "metadata": {},
     "execution_count": 7
    }
   ],
   "source": [
    "files[0]"
   ]
  },
  {
   "cell_type": "code",
   "execution_count": 8,
   "metadata": {},
   "outputs": [
    {
     "output_type": "execute_result",
     "data": {
      "text/plain": [
       "['dswrf_sfc_2000052100_c00.grib2',\n",
       " 'dswrf_sfc_2000052100_p01.grib2',\n",
       " 'dswrf_sfc_2000052100_p02.grib2',\n",
       " 'dswrf_sfc_2000052100_p03.grib2',\n",
       " 'dswrf_sfc_2000052100_p04.grib2']"
      ]
     },
     "metadata": {},
     "execution_count": 8
    }
   ],
   "source": [
    "[n.split('/')[-1] for n in files]"
   ]
  },
  {
   "cell_type": "code",
   "execution_count": 10,
   "metadata": {},
   "outputs": [
    {
     "output_type": "error",
     "ename": "ValueError",
     "evalue": "unrecognized engine cfgrib must be one of: ['scipy', 'store']",
     "traceback": [
      "\u001b[1;31m---------------------------------------------------------------------------\u001b[0m",
      "\u001b[1;31mValueError\u001b[0m                                Traceback (most recent call last)",
      "\u001b[1;32m<ipython-input-10-3e9cf2072a0b>\u001b[0m in \u001b[0;36m<module>\u001b[1;34m\u001b[0m\n\u001b[0;32m     32\u001b[0m     \u001b[1;31m#    await combine(dir)\u001b[0m\u001b[1;33m\u001b[0m\u001b[1;33m\u001b[0m\u001b[1;33m\u001b[0m\u001b[0m\n\u001b[0;32m     33\u001b[0m \u001b[1;33m\u001b[0m\u001b[0m\n\u001b[1;32m---> 34\u001b[1;33m \u001b[1;32mawait\u001b[0m \u001b[0mpull_compress\u001b[0m\u001b[1;33m(\u001b[0m\u001b[1;33m)\u001b[0m\u001b[1;33m\u001b[0m\u001b[1;33m\u001b[0m\u001b[0m\n\u001b[0m",
      "\u001b[1;32m<ipython-input-10-3e9cf2072a0b>\u001b[0m in \u001b[0;36mpull_compress\u001b[1;34m()\u001b[0m\n\u001b[0;32m     29\u001b[0m \u001b[1;32masync\u001b[0m \u001b[1;32mdef\u001b[0m \u001b[0mpull_compress\u001b[0m\u001b[1;33m(\u001b[0m\u001b[1;33m)\u001b[0m\u001b[1;33m:\u001b[0m\u001b[1;33m\u001b[0m\u001b[1;33m\u001b[0m\u001b[0m\n\u001b[0;32m     30\u001b[0m     \u001b[1;32mwith\u001b[0m \u001b[0mTemporaryDirectory\u001b[0m\u001b[1;33m(\u001b[0m\u001b[1;33m)\u001b[0m \u001b[1;32mas\u001b[0m \u001b[0mdir\u001b[0m\u001b[1;33m:\u001b[0m\u001b[1;33m\u001b[0m\u001b[1;33m\u001b[0m\u001b[0m\n\u001b[1;32m---> 31\u001b[1;33m        \u001b[1;32mawait\u001b[0m \u001b[0mdl\u001b[0m\u001b[1;33m(\u001b[0m\u001b[0mdir\u001b[0m\u001b[1;33m)\u001b[0m\u001b[1;33m\u001b[0m\u001b[1;33m\u001b[0m\u001b[0m\n\u001b[0m\u001b[0;32m     32\u001b[0m     \u001b[1;31m#    await combine(dir)\u001b[0m\u001b[1;33m\u001b[0m\u001b[1;33m\u001b[0m\u001b[1;33m\u001b[0m\u001b[0m\n\u001b[0;32m     33\u001b[0m \u001b[1;33m\u001b[0m\u001b[0m\n",
      "\u001b[1;32m<ipython-input-10-3e9cf2072a0b>\u001b[0m in \u001b[0;36mdl\u001b[1;34m(dir)\u001b[0m\n\u001b[0;32m     16\u001b[0m                         \u001b[0mcontent\u001b[0m \u001b[1;33m=\u001b[0m \u001b[1;32mawait\u001b[0m \u001b[0mstream\u001b[0m\u001b[1;33m.\u001b[0m\u001b[0mread\u001b[0m\u001b[1;33m(\u001b[0m\u001b[1;33m)\u001b[0m\u001b[1;33m\u001b[0m\u001b[1;33m\u001b[0m\u001b[0m\n\u001b[0;32m     17\u001b[0m                         \u001b[1;32mawait\u001b[0m \u001b[0mdata\u001b[0m\u001b[1;33m.\u001b[0m\u001b[0mwrite\u001b[0m\u001b[1;33m(\u001b[0m\u001b[0mcontent\u001b[0m\u001b[1;33m)\u001b[0m\u001b[1;33m\u001b[0m\u001b[1;33m\u001b[0m\u001b[0m\n\u001b[1;32m---> 18\u001b[1;33m                 \u001b[0mds\u001b[0m \u001b[1;33m=\u001b[0m \u001b[0mxr\u001b[0m\u001b[1;33m.\u001b[0m\u001b[0mopen_dataset\u001b[0m\u001b[1;33m(\u001b[0m\u001b[1;34mf\"{dir}/{filename}\"\u001b[0m\u001b[1;33m,\u001b[0m\u001b[0mengine\u001b[0m\u001b[1;33m=\u001b[0m\u001b[1;34m'cfgrib'\u001b[0m\u001b[1;33m)\u001b[0m\u001b[1;33m\u001b[0m\u001b[1;33m\u001b[0m\u001b[0m\n\u001b[0m\u001b[0;32m     19\u001b[0m                 \u001b[0mprint\u001b[0m\u001b[1;33m(\u001b[0m\u001b[0mds\u001b[0m\u001b[1;33m)\u001b[0m\u001b[1;33m\u001b[0m\u001b[1;33m\u001b[0m\u001b[0m\n\u001b[0;32m     20\u001b[0m             \u001b[1;32mexcept\u001b[0m \u001b[0mFileNotFoundError\u001b[0m \u001b[1;32mas\u001b[0m \u001b[0me\u001b[0m\u001b[1;33m:\u001b[0m\u001b[1;33m\u001b[0m\u001b[1;33m\u001b[0m\u001b[0m\n",
      "\u001b[1;32m~\\anaconda3_2020\\lib\\site-packages\\xarray\\backends\\api.py\u001b[0m in \u001b[0;36mopen_dataset\u001b[1;34m(filename_or_obj, engine, chunks, cache, decode_cf, mask_and_scale, decode_times, decode_timedelta, use_cftime, concat_characters, decode_coords, drop_variables, backend_kwargs, *args, **kwargs)\u001b[0m\n\u001b[0;32m    480\u001b[0m         \u001b[0mengine\u001b[0m \u001b[1;33m=\u001b[0m \u001b[0mplugins\u001b[0m\u001b[1;33m.\u001b[0m\u001b[0mguess_engine\u001b[0m\u001b[1;33m(\u001b[0m\u001b[0mfilename_or_obj\u001b[0m\u001b[1;33m)\u001b[0m\u001b[1;33m\u001b[0m\u001b[1;33m\u001b[0m\u001b[0m\n\u001b[0;32m    481\u001b[0m \u001b[1;33m\u001b[0m\u001b[0m\n\u001b[1;32m--> 482\u001b[1;33m     \u001b[0mbackend\u001b[0m \u001b[1;33m=\u001b[0m \u001b[0mplugins\u001b[0m\u001b[1;33m.\u001b[0m\u001b[0mget_backend\u001b[0m\u001b[1;33m(\u001b[0m\u001b[0mengine\u001b[0m\u001b[1;33m)\u001b[0m\u001b[1;33m\u001b[0m\u001b[1;33m\u001b[0m\u001b[0m\n\u001b[0m\u001b[0;32m    483\u001b[0m \u001b[1;33m\u001b[0m\u001b[0m\n\u001b[0;32m    484\u001b[0m     decoders = _resolve_decoders_kwargs(\n",
      "\u001b[1;32m~\\anaconda3_2020\\lib\\site-packages\\xarray\\backends\\plugins.py\u001b[0m in \u001b[0;36mget_backend\u001b[1;34m(engine)\u001b[0m\n\u001b[0;32m    132\u001b[0m         \u001b[0mengines\u001b[0m \u001b[1;33m=\u001b[0m \u001b[0mlist_engines\u001b[0m\u001b[1;33m(\u001b[0m\u001b[1;33m)\u001b[0m\u001b[1;33m\u001b[0m\u001b[1;33m\u001b[0m\u001b[0m\n\u001b[0;32m    133\u001b[0m         \u001b[1;32mif\u001b[0m \u001b[0mengine\u001b[0m \u001b[1;32mnot\u001b[0m \u001b[1;32min\u001b[0m \u001b[0mengines\u001b[0m\u001b[1;33m:\u001b[0m\u001b[1;33m\u001b[0m\u001b[1;33m\u001b[0m\u001b[0m\n\u001b[1;32m--> 134\u001b[1;33m             raise ValueError(\n\u001b[0m\u001b[0;32m    135\u001b[0m                 \u001b[1;34mf\"unrecognized engine {engine} must be one of: {list(engines)}\"\u001b[0m\u001b[1;33m\u001b[0m\u001b[1;33m\u001b[0m\u001b[0m\n\u001b[0;32m    136\u001b[0m             )\n",
      "\u001b[1;31mValueError\u001b[0m: unrecognized engine cfgrib must be one of: ['scipy', 'store']"
     ]
    }
   ],
   "source": [
    "async def dl(dir):\n",
    "    bucket = 'noaa-gefs-retrospective'\n",
    "    filenames = [n.split('/')[-1] for n in files]\n",
    "    folder = 'GEFSv12/reforecast/2000/2000052100/c00/Days:1-10'\n",
    "    session = aiobotocore.get_session()\n",
    "    async with session.create_client('s3', region_name='us-west-2') as client:\n",
    "        start = time.time()\n",
    "        for s3_file in files:\n",
    "            try:\n",
    "                filename = s3_file.split('/')[-1]\n",
    "                async with aiofiles.open(f\"{dir}/{filename}\", \"wb\") as data:\n",
    "                    response = await client.get_object(\n",
    "                        Bucket=bucket, Key=s3_file\n",
    "                    )\n",
    "                    async with response[\"Body\"] as stream:\n",
    "                        content = await stream.read()\n",
    "                        await data.write(content)\n",
    "                ds = xr.open_dataset(f\"{dir}/{filename}\",engine='cfgrib')\n",
    "                print(ds)\n",
    "            except FileNotFoundError as e:\n",
    "                print(e)\n",
    "        end = time.time()\n",
    "        print(int(end - start))\n",
    "\n",
    "async def combine(dir):\n",
    "    ds = xr.open_mfdataset(dir, combine='by_coords')\n",
    "    print(ds)\n",
    "\n",
    "async def pull_compress():\n",
    "    with TemporaryDirectory() as dir:\n",
    "       await dl(dir)\n",
    "    #    await combine(dir)\n",
    "\n",
    "await pull_compress()"
   ]
  },
  {
   "cell_type": "code",
   "execution_count": 33,
   "metadata": {},
   "outputs": [
    {
     "output_type": "execute_result",
     "data": {
      "text/plain": [
       "['noaa-gefs-retrospective/GEFSv12/reforecast/2000/2000052100/c00/Days:1-10/dswrf_sfc_2000052100_c00.grib2',\n",
       " 'noaa-gefs-retrospective/GEFSv12/reforecast/2000/2000052100/p01/Days:1-10/dswrf_sfc_2000052100_p01.grib2',\n",
       " 'noaa-gefs-retrospective/GEFSv12/reforecast/2000/2000052100/p02/Days:1-10/dswrf_sfc_2000052100_p02.grib2',\n",
       " 'noaa-gefs-retrospective/GEFSv12/reforecast/2000/2000052100/p03/Days:1-10/dswrf_sfc_2000052100_p03.grib2',\n",
       " 'noaa-gefs-retrospective/GEFSv12/reforecast/2000/2000052100/p04/Days:1-10/dswrf_sfc_2000052100_p04.grib2']"
      ]
     },
     "metadata": {},
     "execution_count": 33
    }
   ],
   "source": [
    "files_mp = ['noaa-gefs-retrospective/'+n for n in files]\n",
    "files_mp"
   ]
  },
  {
   "cell_type": "code",
   "execution_count": 34,
   "metadata": {},
   "outputs": [
    {
     "output_type": "stream",
     "name": "stdout",
     "text": [
      "17\n"
     ]
    }
   ],
   "source": [
    "import multiprocessing\n",
    "import aws_rfcst\n",
    "\n",
    "start = time.time()\n",
    "\n",
    "pool = multiprocessing.Pool(multiprocessing.cpu_count())\n",
    "pool.map(aws_rfcst.download_process_file, files_mp)\n",
    "pool.close()\n",
    "pool.join()\n",
    "end = time.time()\n",
    "print(int(end - start))"
   ]
  },
  {
   "cell_type": "code",
   "execution_count": 10,
   "metadata": {
    "ExecuteTime": {
     "end_time": "2021-05-11T17:36:50.537206Z",
     "start_time": "2021-05-11T17:36:50.069391Z"
    }
   },
   "outputs": [
    {
     "output_type": "error",
     "ename": "NameError",
     "evalue": "name 'boto3' is not defined",
     "traceback": [
      "\u001b[1;31m---------------------------------------------------------------------------\u001b[0m",
      "\u001b[1;31mNameError\u001b[0m                                 Traceback (most recent call last)",
      "\u001b[1;32m<ipython-input-10-52c63b0583da>\u001b[0m in \u001b[0;36m<module>\u001b[1;34m\u001b[0m\n\u001b[0;32m      3\u001b[0m \u001b[0mvnames\u001b[0m \u001b[1;33m=\u001b[0m \u001b[1;33m[\u001b[0m\u001b[1;34m'dswrf_sfc_'\u001b[0m\u001b[1;33m]\u001b[0m \u001b[1;31m# ,'apcp_sfc_']'hgt_pres_abv700mb_','pres_msl_','tmp_pres_','pwat_eatm_', 'ugrd_hgt_','vgrd_hgt_' add in later\u001b[0m\u001b[1;33m\u001b[0m\u001b[1;33m\u001b[0m\u001b[0m\n\u001b[0;32m      4\u001b[0m \u001b[0mens\u001b[0m \u001b[1;33m=\u001b[0m \u001b[1;33m[\u001b[0m\u001b[1;34m'c00'\u001b[0m\u001b[1;33m,\u001b[0m\u001b[1;34m'p01'\u001b[0m\u001b[1;33m,\u001b[0m\u001b[1;34m'p02'\u001b[0m\u001b[1;33m,\u001b[0m\u001b[1;34m'p03'\u001b[0m\u001b[1;33m,\u001b[0m\u001b[1;34m'p04'\u001b[0m\u001b[1;33m]\u001b[0m\u001b[1;33m\u001b[0m\u001b[1;33m\u001b[0m\u001b[0m\n\u001b[1;32m----> 5\u001b[1;33m \u001b[0ms3\u001b[0m \u001b[1;33m=\u001b[0m \u001b[0mboto3\u001b[0m\u001b[1;33m.\u001b[0m\u001b[0mclient\u001b[0m\u001b[1;33m(\u001b[0m\u001b[1;34m's3'\u001b[0m\u001b[1;33m)\u001b[0m\u001b[1;33m\u001b[0m\u001b[1;33m\u001b[0m\u001b[0m\n\u001b[0m\u001b[0;32m      6\u001b[0m \u001b[1;33m\u001b[0m\u001b[0m\n\u001b[0;32m      7\u001b[0m \u001b[0mdr\u001b[0m \u001b[1;33m=\u001b[0m \u001b[0mdate_range_seasonal\u001b[0m\u001b[1;33m(\u001b[0m\u001b[1;34m'jja'\u001b[0m\u001b[1;33m)\u001b[0m\u001b[1;33m\u001b[0m\u001b[1;33m\u001b[0m\u001b[0m\n",
      "\u001b[1;31mNameError\u001b[0m: name 'boto3' is not defined"
     ]
    }
   ],
   "source": [
    "source = 'https://noaa-gefs-retrospective.s3.amazonaws.com/GEFSv12/reforecast/'\n",
    "bucket = 'noaa-gefs-retrospective'\n",
    "vnames = ['dswrf_sfc_'] # ,'apcp_sfc_']'hgt_pres_abv700mb_','pres_msl_','tmp_pres_','pwat_eatm_', 'ugrd_hgt_','vgrd_hgt_' add in later\n",
    "ens = ['c00','p01','p02','p03','p04']\n",
    "\n",
    "\n",
    "dr = date_range_seasonal('jja')\n",
    "varname = vnames[0]\n",
    "year = 2000\n",
    "\n",
    "dr_str = [day.strftime('%Y%m%d00') for day in dr]\n",
    "out = s3.list_objects_v2(Bucket='noaa-gefs-retrospective',Delimiter='/',Prefix=f'GEFSv12/reforecast/{year}/',MaxKeys=370)\n",
    "valid_files = [m['Prefix'][-11:-1] for m in out['CommonPrefixes'] if m['Prefix'][-11:-1] in dr_str]\n",
    "source_links = [f'{source}{year}/{m}/' for m in valid_files]\n",
    "source_links_ens = (f'{o}{m}/Days:1-10/{varname}{o[-11:-1]}_{m}.grib2' for o in source_links for m in ens)"
   ]
  },
  {
   "cell_type": "code",
   "execution_count": null,
   "metadata": {},
   "outputs": [],
   "source": [
    "i=0\n",
    "for link in source_links_ens:\n",
    "    if f'nh_time_{link[98:-10]}_mean.nc' in os.listdir('mean'):\n",
    "        # print(f'nh_time_{link[98:-10]} already completed')\n",
    "        pass\n",
    "    else:\n",
    "        ens_num = ens[i%5]\n",
    "        if f'{link[98:]}' in os.listdir():\n",
    "            # print(f'{link[98:]} already downloaded')\n",
    "            pass\n",
    "        else:\n",
    "#             urllib.request.urlretrieve(link, f'{link[98:]}')\n",
    "            print('url retrieved')\n",
    "        subprocess.run(['grib_to_netcdf', '-k', '4', '-d1', '-s', '-o', f'{link[98:-6]}.nc', f'{link[98:]}'])\n",
    "        if f'{link[98:-6]}.nc' in os.listdir('tmp'):\n",
    "            pass\n",
    "        elif f'{link[98:-6]}.nc' in os.listdir():\n",
    "            cds = xr.open_dataset(f'{link[98:-6]}.nc',chunks={})\n",
    "            comp = dict(zlib=True, complevel=5, shuffle=True)\n",
    "            encoding = {var: comp for var in cds.data_vars}\n",
    "            date_init = np.datetime64(datetime.strptime(link[-20:-10], '%Y%m%d00'))\n",
    "            timedeltas = pd.to_timedelta(cds.time - date_init)\n",
    "            timedeltas_7day = timedeltas[timedeltas <= '7 days 00:00:00']\n",
    "            if 'height' in varname:\n",
    "                try:\n",
    "                    cds = cds.sel(isobaricInhPa=500)\n",
    "                except:\n",
    "                    cds = cds.sel(level=500)\n",
    "            elif 'tmp_pres' in varname:\n",
    "                try:\n",
    "                    cds = cds.sel(isobaricInhPa=850)\n",
    "                except:\n",
    "                    cds = cds.sel(level=850)\n",
    "            cds = cds.isel(time = slice(0,len(timedeltas_7day)))\n",
    "            cds = cds.sel(latitude=slice(60,0))\n",
    "            cds = cds.expand_dims('member')\n",
    "            cds.to_netcdf(f'tmp/{link[98:-6]}.nc',encoding=encoding)\n",
    "        else:\n",
    "            pass\n",
    "        i+=1\n",
    "        if ens_num == 'p04':\n",
    "            lorg = xr.open_mfdataset('tmp/*.nc',combine='nested',concat_dim='member',data_vars='minimal',coords='minimal',compat='override')\n",
    "            lorg_mean = lorg.mean('member')\n",
    "            lorg_mean = lorg_mean.expand_dims('date')\n",
    "            lorg_std = lorg.std('member')\n",
    "            lorg_std = lorg_std.expand_dims('date')\n",
    "            comp = dict(zlib=True, complevel=5, shuffle=True)\n",
    "            encoding = {var: comp for var in lorg.data_vars}\n",
    "            lorg_mean.to_netcdf(f'mean/nh_time_{link[98:-10]}_mean.nc',encoding=encoding)\n",
    "            # subprocess.run(['nccopy', '-u', '-s', '-d2', f'mean/nh_time_{link[98:-10]}_mean.nc',f'mean/nh_time_{link[98:-10]}_mean_d2.nc'])\n",
    "            lorg_std.to_netcdf(f'std/nh_time_{link[98:-10]}_std.nc',encoding=encoding)\n",
    "            # subprocess.run(['nccopy', '-u', '-s', '-d2', f'std/nh_time_{link[98:-10]}_std.nc',f'std/nh_time_{link[98:-10]}_std_d2.nc'])\n",
    "            [os.remove(fname) for fname in os.listdir() if bool(re.search(r'\\d.', fname))]\n",
    "            [os.remove(f'tmp/{fname}') for fname in os.listdir('tmp') if bool(re.search(r'\\d.', fname))]\n",
    "            print(f'{link[98:-10]} finished')\n",
    "print(f'finished {year}')\n",
    "for folder in ['mean','std']:\n",
    "    if f'{link[98:-21]}_nh_{season}_{folder}.nc' in os.listdir(f'{folder}'):\n",
    "        pass\n",
    "    else:\n",
    "        big_xr = xr.open_mfdataset(f'{folder}/nh_time_{link[98:-21]}*',engine='netcdf4')\n",
    "        big_xr.to_netcdf(f'{folder}/{link[98:-21]}_nh_{season}_{folder}.nc')\n",
    "    if f'{link[98:-21]}_nh_{season}_{folder}_d1.nc' in os.listdir(f'{folder}'):\n",
    "        pass\n",
    "    else:\n",
    "        subprocess.run(['nccopy', '-u', '-s', '-d1', f'{folder}/{link[98:-21]}_nh_{season}_{folder}.nc', f'{folder}/{link[98:-21]}_nh_{season}_{folder}_d1.nc'])"
   ]
  }
 ],
 "metadata": {
  "kernelspec": {
   "name": "python385jvsc74a57bd0e78390638c02c5700612137354aeac10c37c3dc31a91f532f4f31574c1bac991",
   "display_name": "Python 3.8.5 64-bit ('base': conda)"
  },
  "language_info": {
   "codemirror_mode": {
    "name": "ipython",
    "version": 3
   },
   "file_extension": ".py",
   "mimetype": "text/x-python",
   "name": "python",
   "nbconvert_exporter": "python",
   "pygments_lexer": "ipython3",
   "version": "3.8.5"
  },
  "toc": {
   "base_numbering": 1,
   "nav_menu": {},
   "number_sections": true,
   "sideBar": true,
   "skip_h1_title": false,
   "title_cell": "Table of Contents",
   "title_sidebar": "Contents",
   "toc_cell": false,
   "toc_position": {},
   "toc_section_display": true,
   "toc_window_display": false
  }
 },
 "nbformat": 4,
 "nbformat_minor": 2
}