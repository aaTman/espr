{
 "cells": [
  {
   "cell_type": "code",
   "execution_count": 1,
   "metadata": {
    "ExecuteTime": {
     "end_time": "2021-04-03T05:36:01.927821Z",
     "start_time": "2021-04-03T05:36:01.053804Z"
    }
   },
   "outputs": [
    {
     "data": {
      "text/plain": [
       "<module 'mclimate' from 'G:\\\\Projects\\\\espr_v2\\\\src\\\\mclimate.py'>"
      ]
     },
     "execution_count": 1,
     "metadata": {},
     "output_type": "execute_result"
    }
   ],
   "source": [
    "import mclimate as mc\n",
    "import farray as fa\n",
    "import importlib\n",
    "import numpy as np\n",
    "importlib.reload(mc)"
   ]
  },
  {
   "cell_type": "code",
   "execution_count": 2,
   "metadata": {
    "ExecuteTime": {
     "end_time": "2021-04-03T05:36:02.630822Z",
     "start_time": "2021-04-03T05:36:01.928806Z"
    }
   },
   "outputs": [],
   "source": [
    "mclimate = mc.MClimate('2020-01-02','G:/Projects/espr/reforecast/v12','slp',48,v12=True,dask_enabled=True)"
   ]
  },
  {
   "cell_type": "code",
   "execution_count": 3,
   "metadata": {
    "ExecuteTime": {
     "end_time": "2021-04-03T05:36:02.635822Z",
     "start_time": "2021-04-03T05:36:02.631806Z"
    }
   },
   "outputs": [
    {
     "data": {
      "text/html": [
       "<table style=\"border: 2px solid white;\">\n",
       "<tr>\n",
       "<td style=\"vertical-align: top; border: 0px solid white\">\n",
       "<h3 style=\"text-align: left;\">Client</h3>\n",
       "<ul style=\"text-align: left; list-style: none; margin: 0; padding: 0;\">\n",
       "  <li><b>Scheduler: </b>tcp://127.0.0.1:50019</li>\n",
       "  <li><b>Dashboard: </b><a href='http://127.0.0.1:8787/status' target='_blank'>http://127.0.0.1:8787/status</a>\n",
       "</ul>\n",
       "</td>\n",
       "<td style=\"vertical-align: top; border: 0px solid white\">\n",
       "<h3 style=\"text-align: left;\">Cluster</h3>\n",
       "<ul style=\"text-align: left; list-style:none; margin: 0; padding: 0;\">\n",
       "  <li><b>Workers: </b>5</li>\n",
       "  <li><b>Cores: </b>20</li>\n",
       "  <li><b>Memory: </b>34.27 GB</li>\n",
       "</ul>\n",
       "</td>\n",
       "</tr>\n",
       "</table>"
      ],
      "text/plain": [
       "<Client: 'tcp://127.0.0.1:50019' processes=5 threads=20, memory=34.27 GB>"
      ]
     },
     "execution_count": 3,
     "metadata": {},
     "output_type": "execute_result"
    }
   ],
   "source": [
    "mclimate.client"
   ]
  },
  {
   "cell_type": "code",
   "execution_count": 5,
   "metadata": {
    "ExecuteTime": {
     "end_time": "2021-04-03T05:35:14.981204Z",
     "start_time": "2021-04-03T05:35:14.971205Z"
    }
   },
   "outputs": [
    {
     "data": {
      "text/plain": [
       "<xarray.Dataset>\n",
       "Dimensions:    (date: 2205, latitude: 161, longitude: 561, time: 2205)\n",
       "Coordinates:\n",
       "  * longitude  (longitude) float32 180.0 180.25 180.5 ... 319.5 319.75 320.0\n",
       "  * latitude   (latitude) float32 60.0 59.75 59.5 59.25 ... 20.5 20.25 20.0\n",
       "    fhour      float64 48.0\n",
       "  * time       (time) datetime64[ns] 2000-01-01 2000-01-02 ... 2019-12-31\n",
       "Dimensions without coordinates: date\n",
       "Data variables:\n",
       "    msl        (date, latitude, longitude) float32 dask.array<shape=(2205, 161, 561), chunksize=(2205, 161, 561)>"
      ]
     },
     "execution_count": 5,
     "metadata": {},
     "output_type": "execute_result"
    }
   ],
   "source": [
    "mclimate.ds_test"
   ]
  },
  {
   "cell_type": "code",
   "execution_count": 4,
   "metadata": {
    "ExecuteTime": {
     "end_time": "2021-04-03T05:36:04.569804Z",
     "start_time": "2021-04-03T05:36:03.955803Z"
    },
    "scrolled": true
   },
   "outputs": [
    {
     "name": "stderr",
     "output_type": "stream",
     "text": [
      "C:\\Users\\tman1_000\\Anaconda3\\lib\\site-packages\\xarray\\backends\\api.py:783: FutureWarning: In xarray version 0.13 `auto_combine` will be deprecated.\n",
      "  coords=coords)\n",
      "C:\\Users\\tman1_000\\Anaconda3\\lib\\site-packages\\xarray\\backends\\api.py:783: FutureWarning: The datasets supplied have global dimension coordinates. You may want\n",
      "to use the new `combine_by_coords` function (or the\n",
      "`combine='by_coords'` option to `open_mfdataset` to order the datasets\n",
      "before concatenation. Alternatively, to continue concatenating based\n",
      "on the order the datasets are supplied in in future, please use the\n",
      "new `combine_nested` function (or the `combine='nested'` option to\n",
      "open_mfdataset).\n",
      "  coords=coords)\n"
     ]
    },
    {
     "data": {
      "text/plain": [
       "<xarray.Dataset>\n",
       "Dimensions:    (latitude: 161, longitude: 561, time: 420)\n",
       "Coordinates:\n",
       "  * longitude  (longitude) float64 180.0 180.2 180.5 180.8 ... 319.5 319.8 320.0\n",
       "  * latitude   (latitude) float64 60.0 59.75 59.5 59.25 ... 20.5 20.25 20.0\n",
       "    fhour      float64 48.0\n",
       "  * time       (time) datetime64[ns] 2000-01-01 2000-01-02 ... 2019-12-31\n",
       "    timestr    (time) <U42 '11' '12' '13' '14' ... '1228' '1229' '1230' '1231'\n",
       "Data variables:\n",
       "    msl        (time, latitude, longitude) float32 dask.array<shape=(420, 161, 561), chunksize=(420, 161, 561)>"
      ]
     },
     "execution_count": 4,
     "metadata": {},
     "output_type": "execute_result"
    }
   ],
   "source": [
    "mclimate.generate()"
   ]
  },
  {
   "cell_type": "code",
   "execution_count": 5,
   "metadata": {
    "ExecuteTime": {
     "end_time": "2021-04-03T05:36:29.392527Z",
     "start_time": "2021-04-03T05:36:29.316509Z"
    }
   },
   "outputs": [
    {
     "ename": "TypeError",
     "evalue": "__init__() missing 1 required positional argument: 'fhour'",
     "output_type": "error",
     "traceback": [
      "\u001b[1;31m---------------------------------------------------------------------------\u001b[0m",
      "\u001b[1;31mTypeError\u001b[0m                                 Traceback (most recent call last)",
      "\u001b[1;32m<ipython-input-5-0f23d98f32be>\u001b[0m in \u001b[0;36m<module>\u001b[1;34m\u001b[0m\n\u001b[1;32m----> 1\u001b[1;33m \u001b[0mnfa_mean\u001b[0m \u001b[1;33m=\u001b[0m \u001b[0mfa\u001b[0m\u001b[1;33m.\u001b[0m\u001b[0mNewForecastArray\u001b[0m\u001b[1;33m(\u001b[0m\u001b[1;34m'mean'\u001b[0m\u001b[1;33m,\u001b[0m \u001b[1;34m'slp'\u001b[0m\u001b[1;33m,\u001b[0m \u001b[1;36m48\u001b[0m\u001b[1;33m)\u001b[0m\u001b[1;33m\u001b[0m\u001b[1;33m\u001b[0m\u001b[0m\n\u001b[0m",
      "\u001b[1;31mTypeError\u001b[0m: __init__() missing 1 required positional argument: 'fhour'"
     ]
    }
   ],
   "source": [
    "nfa_mean = fa.NewForecastArray('mean', 'slp', 48)"
   ]
  },
  {
   "cell_type": "code",
   "execution_count": 8,
   "metadata": {
    "scrolled": true
   },
   "outputs": [
    {
     "ename": "NameError",
     "evalue": "name 'nfa_mean' is not defined",
     "output_type": "error",
     "traceback": [
      "\u001b[1;31m---------------------------------------------------------------------------\u001b[0m",
      "\u001b[1;31mNameError\u001b[0m                                 Traceback (most recent call last)",
      "\u001b[1;32m<ipython-input-8-f3e4f9139b18>\u001b[0m in \u001b[0;36m<module>\u001b[1;34m\u001b[0m\n\u001b[0;32m      1\u001b[0m \u001b[0mlons\u001b[0m \u001b[1;33m=\u001b[0m \u001b[0mnp\u001b[0m\u001b[1;33m.\u001b[0m\u001b[0marange\u001b[0m\u001b[1;33m(\u001b[0m\u001b[1;36m180\u001b[0m\u001b[1;33m,\u001b[0m\u001b[1;36m310.1\u001b[0m\u001b[1;33m,\u001b[0m\u001b[1;36m0.5\u001b[0m\u001b[1;33m)\u001b[0m\u001b[1;33m\u001b[0m\u001b[1;33m\u001b[0m\u001b[0m\n\u001b[0;32m      2\u001b[0m \u001b[0mlats\u001b[0m \u001b[1;33m=\u001b[0m \u001b[0mnp\u001b[0m\u001b[1;33m.\u001b[0m\u001b[0marange\u001b[0m\u001b[1;33m(\u001b[0m\u001b[1;36m20\u001b[0m\u001b[1;33m,\u001b[0m\u001b[1;36m80.1\u001b[0m\u001b[1;33m,\u001b[0m\u001b[1;36m0.5\u001b[0m\u001b[1;33m)\u001b[0m\u001b[1;33m\u001b[0m\u001b[1;33m\u001b[0m\u001b[0m\n\u001b[1;32m----> 3\u001b[1;33m \u001b[0mnfa_mean\u001b[0m\u001b[1;33m.\u001b[0m\u001b[0mload_forecast\u001b[0m\u001b[1;33m(\u001b[0m\u001b[0msubset_lat\u001b[0m\u001b[1;33m=\u001b[0m\u001b[0mlats\u001b[0m\u001b[1;33m,\u001b[0m\u001b[0msubset_lon\u001b[0m\u001b[1;33m=\u001b[0m\u001b[0mlons\u001b[0m\u001b[1;33m)\u001b[0m\u001b[1;33m\u001b[0m\u001b[1;33m\u001b[0m\u001b[0m\n\u001b[0m",
      "\u001b[1;31mNameError\u001b[0m: name 'nfa_mean' is not defined"
     ]
    }
   ],
   "source": [
    "lons = np.arange(180,310.1,0.5)\n",
    "lats = np.arange(20,80.1,0.5)\n",
    "nfa_mean.load_forecast(subset_lat=lats,subset_lon=lons)"
   ]
  },
  {
   "cell_type": "code",
   "execution_count": 10,
   "metadata": {},
   "outputs": [
    {
     "data": {
      "text/plain": [
       "<xarray.Dataset>\n",
       "Dimensions:       (fhour: 29, lat: 61, lon: 131, time: 3307)\n",
       "Coordinates:\n",
       "  * time          (time) datetime64[ns] 1989-11-21 1989-11-22 ... 2019-03-10\n",
       "  * lat           (lat) float32 20.0 21.0 22.0 23.0 24.0 ... 77.0 78.0 79.0 80.0\n",
       "  * lon           (lon) float32 180.0 181.0 182.0 183.0 ... 308.0 309.0 310.0\n",
       "  * fhour         (fhour) timedelta64[ns] 0 days 00:00:00 ... 7 days 00:00:00\n",
       "Data variables:\n",
       "    intTime       (time) int32 ...\n",
       "    intValidTime  (time, fhour) int32 ...\n",
       "    Pressure      (time, fhour, lat, lon) float32 ...\n",
       "Attributes:\n",
       "    Conventions:  CF-1.0\n",
       "    title:        Subset of data from 2nd-generation multi-decadal ensemble r...\n",
       "    institution:  NOAA Earth System Research Laboratory (ESRL)\n",
       "    source:       NCEP GFS v 9.01, T254L42.  Control initial conditions from ...\n",
       "    references:   http://www.esrl.noaa.gov/psd/forecasts/reforecast2/index.html\n",
       "    history:      Subset created 2019-10-02 04:06:08 UTC\n",
       "    comment:      Original dataset generated on DOE's supercomputers at Lawre..."
      ]
     },
     "execution_count": 10,
     "metadata": {},
     "output_type": "execute_result"
    }
   ],
   "source": [
    "import xarray as xr\n",
    "xr.open_dataset('G:/Projects/espr/reforecast/slp_mean_djf.nc')"
   ]
  },
  {
   "cell_type": "code",
   "execution_count": null,
   "metadata": {},
   "outputs": [],
   "source": []
  }
 ],
 "metadata": {
  "kernelspec": {
   "display_name": "Python 3",
   "language": "python",
   "name": "python3"
  },
  "language_info": {
   "codemirror_mode": {
    "name": "ipython",
    "version": 3
   },
   "file_extension": ".py",
   "mimetype": "text/x-python",
   "name": "python",
   "nbconvert_exporter": "python",
   "pygments_lexer": "ipython3",
   "version": "3.7.3"
  },
  "toc": {
   "base_numbering": 1,
   "nav_menu": {},
   "number_sections": true,
   "sideBar": true,
   "skip_h1_title": false,
   "title_cell": "Table of Contents",
   "title_sidebar": "Contents",
   "toc_cell": false,
   "toc_position": {},
   "toc_section_display": true,
   "toc_window_display": false
  }
 },
 "nbformat": 4,
 "nbformat_minor": 5
}
